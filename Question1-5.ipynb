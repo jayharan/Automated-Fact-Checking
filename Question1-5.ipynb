{
 "cells": [
  {
   "cell_type": "code",
   "execution_count": 1,
   "metadata": {},
   "outputs": [],
   "source": [
    "#Importing packages\n",
    "import json\n",
    "import random\n",
    "import re\n",
    "import os\n",
    "import sys\n",
    "import collections\n",
    "import nltk\n",
    "import tqdm\n",
    "import itertools\n",
    "import string\n",
    "import math\n",
    "import pandas as pd\n",
    "import numpy as np\n",
    "import pickle\n",
    "import matplotlib.pyplot as plt\n",
    "import scipy as sp\n",
    "from scipy import sparse\n",
    "import os.path\n",
    "import unicodedata\n",
    "\n",
    "\n",
    "\n",
    "from tqdm import tqdm, trange\n",
    "from collections import Counter\n",
    "from nltk import word_tokenize\n",
    "from nltk.tokenize import RegexpTokenizer\n",
    "from nltk.corpus import stopwords \n",
    "from nltk.tokenize import word_tokenize \n",
    "from nltk.stem.porter import PorterStemmer\n",
    "\n",
    "tokenizer = RegexpTokenizer(r'\\w+')"
   ]
  },
  {
   "cell_type": "markdown",
   "metadata": {},
   "source": [
    "# Question 1"
   ]
  },
  {
   "cell_type": "code",
   "execution_count": 2,
   "metadata": {
    "scrolled": true
   },
   "outputs": [],
   "source": [
    "list_of_wiki = os.listdir(\"data_files/wiki-pages/wiki-pages/\")"
   ]
  },
  {
   "cell_type": "code",
   "execution_count": 21,
   "metadata": {},
   "outputs": [
    {
     "name": "stderr",
     "output_type": "stream",
     "text": [
      "100%|██████████| 109/109 [06:13<00:00,  3.38s/it]\n",
      "100%|██████████| 109/109 [06:13<00:00,  3.43s/it]\n"
     ]
    }
   ],
   "source": [
    "#Question 1\n",
    "\n",
    "#Counting frequency of every term\n",
    "word_count = {}\n",
    "\n",
    "brackets = ['lrd', 'rrb', 'lsb', 'rsb']\n",
    "\n",
    "for file in tqdm(list_of_wiki, position = 0, leave = True):\n",
    "    with open('data_files/wiki-pages/wiki-pages/' + file, 'r') as openfile:\n",
    "            for iline, line in enumerate(openfile.readlines()):\n",
    "                text = json.loads(line)['text']\n",
    "                text = text.lower()\n",
    "                tokens = tokenizer.tokenize(text)\n",
    "\n",
    "                for token in tokens:\n",
    "                    if token not in brackets:\n",
    "                        if token in word_count:\n",
    "                            word_count[token] += 1\n",
    "\n",
    "                        else:\n",
    "                            word_count[token] = 1"
   ]
  },
  {
   "cell_type": "code",
   "execution_count": 9,
   "metadata": {},
   "outputs": [],
   "source": [
    "pickle.dump(word_count, open(\"pkl_files/word_count.p\", \"wb\"))"
   ]
  },
  {
   "cell_type": "code",
   "execution_count": 3,
   "metadata": {},
   "outputs": [],
   "source": [
    "word_count = pickle.load( open( \"pkl_files/word_count.p\", \"rb\" ) )"
   ]
  },
  {
   "cell_type": "code",
   "execution_count": 4,
   "metadata": {},
   "outputs": [
    {
     "data": {
      "text/plain": [
       "457271337"
      ]
     },
     "execution_count": 4,
     "metadata": {},
     "output_type": "execute_result"
    }
   ],
   "source": [
    "#Cell to calculate total number of words\n",
    "word_ranks = list(word_count.items())\n",
    "word_ranks.sort(key=lambda tup: tup[1], reverse = True) \n",
    "word_ranks\n",
    "\n",
    "total = sum(word_count.values())\n",
    "total"
   ]
  },
  {
   "cell_type": "code",
   "execution_count": 5,
   "metadata": {},
   "outputs": [
    {
     "data": {
      "text/plain": [
       "[('the', 6.728126937026888),\n",
       " ('of', 3.5237113495263754),\n",
       " ('in', 3.1868513989102274),\n",
       " ('and', 2.7821435481752053),\n",
       " ('a', 2.385506179233797)]"
      ]
     },
     "execution_count": 5,
     "metadata": {},
     "output_type": "execute_result"
    }
   ],
   "source": [
    "#Cell to calculate proportion of most frequent words\n",
    "\n",
    "prop_list = []\n",
    "\n",
    "for word, count in word_ranks[:5]:\n",
    "    prop = (count/total) * 100\n",
    "    prop_list.append((word, prop))\n",
    "    \n",
    "prop_list"
   ]
  },
  {
   "cell_type": "code",
   "execution_count": 6,
   "metadata": {},
   "outputs": [
    {
     "data": {
      "image/png": "[encoded data removed]",
      "text/plain": [
       "<Figure size 432x288 with 1 Axes>"
      ]
     },
     "metadata": {
      "needs_background": "light"
     },
     "output_type": "display_data"
    }
   ],
   "source": [
    "#Plotting curve for zipfs law\n",
    "counts = list(word_count.values())\n",
    "counts.sort(reverse = True)\n",
    "\n",
    "#Making a log version of lists\n",
    "log_freq = []\n",
    "log_ranks = []\n",
    "\n",
    "for count in counts:\n",
    "    log_freq.append( math.log(count))\n",
    "    \n",
    "for rank in range(1,len(log_freq) + 1):\n",
    "    log_ranks.append(math.log(rank))\n",
    " \n",
    "    \n",
    "f = plt.figure()\n",
    "plt.plot(log_ranks, log_freq)\n",
    "plt.xlabel('Log(Rank)')\n",
    "plt.ylabel('Log(Frequency)')\n",
    "plt.show()"
   ]
  },
  {
   "cell_type": "code",
   "execution_count": 7,
   "metadata": {},
   "outputs": [
    {
     "data": {
      "text/plain": [
       "14.977259523130932"
      ]
     },
     "execution_count": 7,
     "metadata": {},
     "output_type": "execute_result"
    }
   ],
   "source": [
    "#Calculating value of constant K\n",
    "\n",
    "log_sums = []\n",
    "\n",
    "for idx, val in enumerate(log_freq):\n",
    "\n",
    "    item_sum = log_freq[idx] + log_ranks[idx]\n",
    "    log_sums.append(item_sum)\n",
    "    \n",
    "avg_k = sum(log_sums)/len(log_sums)\n",
    "avg_k"
   ]
  },
  {
   "cell_type": "code",
   "execution_count": 8,
   "metadata": {},
   "outputs": [
    {
     "data": {
      "text/plain": [
       "3195517.239955811"
      ]
     },
     "execution_count": 8,
     "metadata": {},
     "output_type": "execute_result"
    }
   ],
   "source": [
    "math.exp(avg_k)"
   ]
  },
  {
   "cell_type": "code",
   "execution_count": 9,
   "metadata": {},
   "outputs": [
    {
     "data": {
      "text/plain": [
       "[0, 3300000, 0, 30]"
      ]
     },
     "execution_count": 9,
     "metadata": {},
     "output_type": "execute_result"
    },
    {
     "data": {
      "image/png": "[encoded data removed]",
      "text/plain": [
       "<Figure size 432x288 with 1 Axes>"
      ]
     },
     "metadata": {
      "needs_background": "light"
     },
     "output_type": "display_data"
    }
   ],
   "source": [
    "#Plotting K across range of values\n",
    "plt.plot(log_sums)\n",
    "plt.xlabel('Words')\n",
    "plt.ylabel('K')\n",
    "plt.tick_params(\n",
    "    axis='x',          \n",
    "    which='both',      \n",
    "    bottom=False,      \n",
    "    top=False,         \n",
    "    labelbottom=False) \n",
    "plt.axis([0, 3300000, 0, 30])"
   ]
  },
  {
   "cell_type": "markdown",
   "metadata": {},
   "source": [
    "# Question 2"
   ]
  },
  {
   "cell_type": "markdown",
   "metadata": {},
   "source": [
    "###  Making a list of all words in the claims and stemming and removing stop words"
   ]
  },
  {
   "cell_type": "code",
   "execution_count": 10,
   "metadata": {},
   "outputs": [],
   "source": [
    "claims = []\n",
    "\n",
    "ten_claims =  [75397,150448, 214861, 156709, 129629, 33078, 6744, 226034, 40190, 76253]\n",
    "claim_string = []\n",
    "\n",
    "with open('data_files/train.jsonl') as openfile:\n",
    "        for iline, line in enumerate(openfile.readlines()):\n",
    "        \n",
    "            claim_dic = json.loads(line)\n",
    "            ID = claim_dic['id']\n",
    "            \n",
    "            \n",
    "            if ID in ten_claims:\n",
    "                claim_string.append(claim_dic['claim'])\n",
    "                text = claim_dic['claim'].lower()\n",
    "                tokens = tokenizer.tokenize(text)\n",
    "                \n",
    "                claims.append(tokens)\n",
    "                \n",
    "#All claim words\n",
    "all_words = []\n",
    "\n",
    "for claim in claims:\n",
    "    for word in claim:\n",
    "        all_words.append(word)\n",
    "        \n",
    "#Removing stop words from claims\n",
    "stop_words = set(stopwords.words('english')) \n",
    "stemmer = PorterStemmer()\n",
    "\n",
    "all_words = [word for word in all_words if not word in stop_words] \n",
    "all_words = [stemmer.stem(word) for word in all_words]\n",
    "\n",
    "all_words = list(set(all_words))\n",
    "all_words.sort()"
   ]
  },
  {
   "cell_type": "markdown",
   "metadata": {},
   "source": [
    "### Constructing TF matrix"
   ]
  },
  {
   "cell_type": "code",
   "execution_count": 45,
   "metadata": {},
   "outputs": [
    {
     "name": "stderr",
     "output_type": "stream",
     "text": [
      "100%|██████████| 109/109 [00:10<00:00, 10.36it/s]\n"
     ]
    }
   ],
   "source": [
    "total_docs = 0\n",
    "for file in tqdm(list_of_wiki, position = 0, leave = True):\n",
    "        with open('data_files/wiki-pages/wiki-pages/' + file, 'r') as openfile:\n",
    "                for iline,line in enumerate(openfile.readlines()):\n",
    "                    total_docs += 1"
   ]
  },
  {
   "cell_type": "code",
   "execution_count": 47,
   "metadata": {},
   "outputs": [
    {
     "name": "stderr",
     "output_type": "stream",
     "text": [
      "100%|██████████| 109/109 [1:42:47<00:00, 56.58s/it]\n"
     ]
    }
   ],
   "source": [
    "tf_matrix = np.zeros((total_docs, len(all_words)))\n",
    "doc_lengths = []\n",
    "ids = []\n",
    "current_doc = 0\n",
    "\n",
    "brackets = ['lrb', 'rrb', 'lsb', 'rsb', 'rcb', 'lcb']\n",
    "\n",
    "for file in tqdm(list_of_wiki, position = 0, leave = True):\n",
    "        with open('data_files/wiki-pages/wiki-pages/' + file, 'r') as openfile:\n",
    "                for iline,line in enumerate(openfile.readlines()):\n",
    "                    \n",
    "                    text = json.loads(line)['text']\n",
    "                    text = text.lower()\n",
    "                    tokens = tokenizer.tokenize(text)\n",
    "                    \n",
    "                    #Removing stop words\n",
    "                    tokens = [word for word in tokens if not word in stop_words] \n",
    "                    \n",
    "                    #Removing brackets manually\n",
    "                    tokens = [word for word in tokens if not word in brackets] \n",
    "                    \n",
    "                    #Stemming\n",
    "                    tokens = [stemmer.stem(word) for word in tokens]\n",
    "                    \n",
    "                    #Appending doc_lengths\n",
    "                    doc_lengths.append(len(tokens))\n",
    "                    \n",
    "                    #Count the words in documents\n",
    "                    for ind,word in enumerate(all_words):\n",
    "                        if word in set(tokens):\n",
    "                            word_tf = tokens.count(word)/len(tokens)\n",
    "                            tf_matrix[current_doc][ind] = word_tf\n",
    "                                \n",
    "                    ids.append(json.loads(line)['id'])\n",
    "                    current_doc += 1"
   ]
  },
  {
   "cell_type": "markdown",
   "metadata": {},
   "source": [
    "### Saving and loading in files to save time in the future."
   ]
  },
  {
   "cell_type": "code",
   "execution_count": 48,
   "metadata": {},
   "outputs": [],
   "source": [
    "pickle.dump(ids, open(\"pkl_files/ids.p\", \"wb\"))"
   ]
  },
  {
   "cell_type": "code",
   "execution_count": 11,
   "metadata": {},
   "outputs": [],
   "source": [
    "ids = pickle.load( open( \"pkl_files/ids.p\", \"rb\" ) )"
   ]
  },
  {
   "cell_type": "code",
   "execution_count": 50,
   "metadata": {},
   "outputs": [],
   "source": [
    "pickle.dump(doc_lengths, open(\"pkl_files/doc_lengths.p\", \"wb\"))"
   ]
  },
  {
   "cell_type": "code",
   "execution_count": 12,
   "metadata": {},
   "outputs": [],
   "source": [
    "doc_lengths = pickle.load( open( \"pkl_files/doc_lengths.p\", \"rb\" ) )"
   ]
  },
  {
   "cell_type": "code",
   "execution_count": 52,
   "metadata": {},
   "outputs": [],
   "source": [
    "file_path = \"pkl_files/tf_matrix.pkl\"\n",
    "n_bytes = 2**31\n",
    "max_bytes = 2**31 - 1\n",
    "data = bytearray(n_bytes)\n",
    "\n",
    "bytes_out = pickle.dumps(tf_matrix)\n",
    "with open(file_path, 'wb') as f_out:\n",
    "    for idx in range(0, len(bytes_out), max_bytes):\n",
    "        f_out.write(bytes_out[idx:idx+max_bytes])"
   ]
  },
  {
   "cell_type": "code",
   "execution_count": 13,
   "metadata": {},
   "outputs": [],
   "source": [
    "file_path = \"pkl_files/tf_matrix.pkl\"\n",
    "n_bytes = 2**31\n",
    "max_bytes = 2**31 - 1\n",
    "data = bytearray(n_bytes)\n",
    "\n",
    "bytes_in = bytearray(0)\n",
    "input_size = os.path.getsize(file_path)\n",
    "with open(file_path, 'rb') as f_in:\n",
    "    for _ in range(0, input_size, max_bytes):\n",
    "        bytes_in += f_in.read(max_bytes)\n",
    "tf_matrix = pickle.loads(bytes_in)"
   ]
  },
  {
   "cell_type": "markdown",
   "metadata": {},
   "source": [
    "### Constructing IDF matrix"
   ]
  },
  {
   "cell_type": "code",
   "execution_count": 14,
   "metadata": {},
   "outputs": [],
   "source": [
    "total_doc = tf_matrix.shape[0]"
   ]
  },
  {
   "cell_type": "code",
   "execution_count": 15,
   "metadata": {},
   "outputs": [],
   "source": [
    "#Making IDF matrix\n",
    "\n",
    "#Counting number of documents with each term in it\n",
    "idf_matrix = np.zeros(len(all_words))\n",
    "\n",
    "for index in range(0, len(all_words)):\n",
    "    doc_count = np.count_nonzero(tf_matrix[:,index])\n",
    "    idf_matrix[index] = math.log10(total_doc/doc_count)"
   ]
  },
  {
   "cell_type": "code",
   "execution_count": 16,
   "metadata": {},
   "outputs": [],
   "source": [
    "tf_idf = tf_matrix*idf_matrix"
   ]
  },
  {
   "cell_type": "markdown",
   "metadata": {},
   "source": [
    "### Constructing TF-IDF representation of claims"
   ]
  },
  {
   "cell_type": "code",
   "execution_count": 17,
   "metadata": {},
   "outputs": [],
   "source": [
    "clean_claims = []\n",
    "\n",
    "stop_words = set(stopwords.words('english')) \n",
    "stemmer = PorterStemmer()\n",
    "\n",
    "for claim in claims:\n",
    "    clean_claim = [word for word in claim if not word in stop_words] \n",
    "    clean_claim = [stemmer.stem(word) for word in clean_claim]\n",
    "    clean_claims.append(clean_claim)"
   ]
  },
  {
   "cell_type": "code",
   "execution_count": 18,
   "metadata": {},
   "outputs": [],
   "source": [
    "#tf_idf for every claim/norm adjusted\n",
    "claims_tf_idfs = []\n",
    "\n",
    "for claim in clean_claims:\n",
    "    claim_tf = np.zeros(len(all_words))\n",
    "    \n",
    "    for idx, word in enumerate(all_words):\n",
    "        claim_tf[idx] = claim.count(word)/len(claim)\n",
    "            \n",
    "    claim_tf_idf = claim_tf*idf_matrix\n",
    "    claims_tf_idfs.append(claim_tf_idf)"
   ]
  },
  {
   "cell_type": "markdown",
   "metadata": {},
   "source": [
    "### Calculating Cosine similarity"
   ]
  },
  {
   "cell_type": "code",
   "execution_count": 19,
   "metadata": {},
   "outputs": [],
   "source": [
    "#Norm adjusting the matrices\n",
    "norm_rows_docs = []\n",
    "norm_rows_claims = []\n",
    "\n",
    "for row in tf_idf:\n",
    "    norm_doc = np.linalg.norm(row)\n",
    "    norm_adj_row = row\n",
    "    \n",
    "    if norm_doc!= 0:\n",
    "        norm_adj_row = norm_adj_row/norm_doc\n",
    "    \n",
    "    norm_rows_docs.append(norm_adj_row)\n",
    "        \n",
    "for claim in claims_tf_idfs:\n",
    "    norm_claim = np.linalg.norm(claim)\n",
    "    norm_adj_claim = claim/norm_claim\n",
    "    norm_rows_claims.append(norm_adj_claim)\n",
    "    \n",
    "doc_norm_tf_idf = np.array(norm_rows_docs)"
   ]
  },
  {
   "cell_type": "code",
   "execution_count": 20,
   "metadata": {},
   "outputs": [],
   "source": [
    "#Retrieving 5 highest for each claim\n",
    "top5_list = []\n",
    "\n",
    "for claim in norm_rows_claims:\n",
    "    cosine_similarity = doc_norm_tf_idf@claim \n",
    "    highest_5_row = cosine_similarity.argsort()[-5:][::1]\n",
    "    \n",
    "    highest_5 = []\n",
    "    for ind in highest_5_row:\n",
    "        highest_5.append(ids[ind])\n",
    "        \n",
    "    highest_5.reverse()    \n",
    "    top5_list.append(highest_5)"
   ]
  },
  {
   "cell_type": "code",
   "execution_count": 21,
   "metadata": {},
   "outputs": [],
   "source": [
    "claim_disp_list = list(zip(claim_string, top5_list))"
   ]
  },
  {
   "cell_type": "markdown",
   "metadata": {},
   "source": [
    "# Question 3"
   ]
  },
  {
   "cell_type": "markdown",
   "metadata": {},
   "source": [
    "## Unigram"
   ]
  },
  {
   "cell_type": "code",
   "execution_count": 22,
   "metadata": {},
   "outputs": [],
   "source": [
    "#Query Likelihood Model\n",
    "unigram_similar = []\n",
    "for claim in clean_claims:\n",
    "\n",
    "    probabs = np.ones(tf_matrix.shape[0])\n",
    "    \n",
    "    for word in claim:\n",
    "        position = all_words.index(word)\n",
    "        vec = tf_matrix[:, position]\n",
    "        probabs = probabs*vec\n",
    "\n",
    "    highest_prob_indices = probabs.argsort()[-5:][::1]\n",
    "    \n",
    "    non_zero_unigram = []   \n",
    "    for ind in highest_prob_indices:\n",
    "        if probabs[ind]!=0:\n",
    "            non_zero_unigram.append(ids[ind])\n",
    "    \n",
    "    non_zero_unigram.reverse()\n",
    "    unigram_similar.append((claim, non_zero_unigram))"
   ]
  },
  {
   "cell_type": "code",
   "execution_count": 23,
   "metadata": {},
   "outputs": [
    {
     "data": {
      "text/plain": [
       "[0, 0, 1, 0, 1, 5, 5, 1, 1, 5]"
      ]
     },
     "execution_count": 23,
     "metadata": {},
     "output_type": "execute_result"
    }
   ],
   "source": [
    "#Calculating returned unigrams\n",
    "returned_unigram = []\n",
    "\n",
    "for tup in unigram_similar:\n",
    "    returned_unigram.append(len(tup[1]))\n",
    "    \n",
    "returned_unigram"
   ]
  },
  {
   "cell_type": "markdown",
   "metadata": {},
   "source": [
    "## Laplace Smoothing"
   ]
  },
  {
   "cell_type": "code",
   "execution_count": 24,
   "metadata": {},
   "outputs": [],
   "source": [
    "laplace_similar = []\n",
    "#Creating array of doc lengths to adjust tf matrix back to just count\n",
    "doc_length_array = np.array(doc_lengths)\n",
    "\n",
    "#Creating new denominator to divide by\n",
    "adj_denom = doc_length_array + len(counts)\n",
    "adj_denom = np.reciprocal(adj_denom.astype(np.float32))\n",
    "\n",
    "for claim in clean_claims:\n",
    "\n",
    "    probabs = np.ones(tf_matrix.shape[0])\n",
    "    \n",
    "    for word in claim:\n",
    "        position = all_words.index(word)\n",
    "        \n",
    "        #Required modification to tf matrix\n",
    "        vec = tf_matrix[:, position]\n",
    "        term_freq = vec*doc_length_array\n",
    "        \n",
    "        term_freq_plus1 = term_freq + 1\n",
    "        term_freq_div = term_freq_plus1*adj_denom\n",
    "        \n",
    "        #Calculating probabilities like with mle\n",
    "        probabs = probabs*term_freq_div\n",
    "\n",
    "    highest_prob_indices = probabs.argsort()[-5:][::1]\n",
    "    \n",
    "    #Retrieving top5 artilces\n",
    "    top5_laplace = []   \n",
    "    for ind in highest_prob_indices:\n",
    "        top5_laplace.append(ids[ind])\n",
    "    \n",
    "    top5_laplace.reverse()\n",
    "    laplace_similar.append((claim, top5_laplace))"
   ]
  },
  {
   "cell_type": "markdown",
   "metadata": {},
   "source": [
    "## Jelinek-Mercer Smoothing"
   ]
  },
  {
   "cell_type": "code",
   "execution_count": 25,
   "metadata": {},
   "outputs": [],
   "source": [
    "#Building necessary vector to represent entire corpus\n",
    "\n",
    "#Total words\n",
    "total_words = sum(counts)\n",
    "\n",
    "#Making a stemmed word dictionary\n",
    "word_count_list = list(word_count.items())\n",
    "\n",
    "stem_word_count = {}\n",
    "\n",
    "for word_tuple in word_count_list:\n",
    "    word = word_tuple[0]\n",
    "    count = word_tuple[1]\n",
    "    \n",
    "    stemmed_word = stemmer.stem(word)\n",
    "    \n",
    "    if stemmed_word in stem_word_count:\n",
    "        stem_word_count[stemmed_word] += count\n",
    "        \n",
    "    else:\n",
    "        stem_word_count[stemmed_word] = count\n",
    "        \n",
    "claim_word_counts = []\n",
    "\n",
    "for word in all_words:\n",
    "    claim_word_counts.append(stem_word_count[word])\n",
    "    \n",
    "claim_words_array = np.array(claim_word_counts)\n",
    "claim_words_array_div = claim_words_array/total_words"
   ]
  },
  {
   "cell_type": "code",
   "execution_count": 26,
   "metadata": {},
   "outputs": [],
   "source": [
    "#Setting lambda value\n",
    "lambda_val = 0.5\n",
    "\n",
    "#Calculating jelinek mercer similarity\n",
    "jelinek_similar = []\n",
    "for claim in clean_claims:\n",
    "\n",
    "    probabs = np.ones(tf_matrix.shape[0])\n",
    "    \n",
    "    for word in claim:\n",
    "        position = all_words.index(word)\n",
    "        vec = tf_matrix[:, position]\n",
    "        \n",
    "        #jelinek mercer smoothing\n",
    "        lam_vec = lambda_val*vec\n",
    "        corpus_vec = lam_vec + ((1-lambda_val)*claim_words_array_div[all_words.index(word)])\n",
    "        \n",
    "        probabs = probabs*corpus_vec\n",
    "\n",
    "    highest_prob_indices = probabs.argsort()[-5:][::1]\n",
    "    \n",
    "    jelinek_similar_claim = []   \n",
    "    for ind in highest_prob_indices:\n",
    "        jelinek_similar_claim.append(ids[ind])\n",
    "    \n",
    "    jelinek_similar_claim.reverse()\n",
    "    jelinek_similar.append((claim, jelinek_similar_claim))"
   ]
  },
  {
   "cell_type": "markdown",
   "metadata": {},
   "source": [
    "## Dirichlet Smoothing"
   ]
  },
  {
   "cell_type": "code",
   "execution_count": 27,
   "metadata": {},
   "outputs": [],
   "source": [
    "#Building modified lambda value for dirichlet\n",
    "avg_length = total_words/ tf_matrix.shape[0]\n",
    "\n",
    "dirich_denom = doc_length_array + avg_length\n",
    "dirich_denom = np.reciprocal(dirich_denom.astype(np.float32))\n",
    "\n",
    "dirich_constant = doc_length_array*dirich_denom"
   ]
  },
  {
   "cell_type": "code",
   "execution_count": 29,
   "metadata": {},
   "outputs": [],
   "source": [
    "dirichlet_similar = []\n",
    "\n",
    "for claim in clean_claims:\n",
    "\n",
    "    probabs = np.ones(tf_matrix.shape[0])\n",
    "    \n",
    "    for word in claim:\n",
    "        position = all_words.index(word)\n",
    "        vec = tf_matrix[:, position]\n",
    "        \n",
    "        \n",
    "        dirich_vec = dirich_constant*vec\n",
    "        corpus_dirich_vec = dirich_vec + ((1-dirich_constant)*claim_words_array_div[all_words.index(word)])\n",
    "        \n",
    "        probabs = probabs*corpus_dirich_vec\n",
    "\n",
    "    highest_prob_indices = probabs.argsort()[-5:][::1]\n",
    "    \n",
    "    dirich_similar_claim = []   \n",
    "    for ind in highest_prob_indices:\n",
    "        dirich_similar_claim.append(ids[ind])\n",
    "    \n",
    "    dirich_similar_claim.reverse()\n",
    "    dirichlet_similar.append((claim, dirich_similar_claim))"
   ]
  },
  {
   "cell_type": "markdown",
   "metadata": {},
   "source": [
    "### Sending output to CSV files"
   ]
  },
  {
   "cell_type": "code",
   "execution_count": 31,
   "metadata": {},
   "outputs": [],
   "source": [
    "ten_claims =  [75397,150448, 214861, 156709, 129629, 33078, 6744, 226034, 40190, 76253]\n",
    "\n",
    "def csv_sender(results, ten_claims):\n",
    "    \n",
    "    list_of_lists =[]\n",
    "    \n",
    "    for result in results:\n",
    "        list_of_lists.append(result[1])\n",
    "        \n",
    "    df = pd.DataFrame(list_of_lists)\n",
    "    \n",
    "    df.columns = ['doc id_1', 'doc id_2', 'doc id_3', 'doc id_4','doc id_5' ]\n",
    "    df.index = ten_claims\n",
    "    df.index.name = 'claim id'\n",
    "        \n",
    "    return(df)\n",
    "\n",
    "csv_sender(claim_disp_list, ten_claims).to_csv('csv_files/cosine.csv')\n",
    "csv_sender(unigram_similar, ten_claims).to_csv('csv_files/unigram.csv')\n",
    "csv_sender(laplace_similar, ten_claims).to_csv('csv_files/laplace.csv')\n",
    "csv_sender(jelinek_similar, ten_claims).to_csv('csv_files/jelinek.csv')\n",
    "csv_sender(dirichlet_similar, ten_claims).to_csv('csv_files/dirichlet.csv')"
   ]
  },
  {
   "cell_type": "markdown",
   "metadata": {},
   "source": [
    "# Question 4"
   ]
  },
  {
   "cell_type": "markdown",
   "metadata": {},
   "source": [
    "## Part i)"
   ]
  },
  {
   "cell_type": "code",
   "execution_count": 33,
   "metadata": {},
   "outputs": [
    {
     "name": "stdout",
     "output_type": "stream",
     "text": [
      "Loading Glove Model\n",
      "Done. 400000  words loaded!\n"
     ]
    }
   ],
   "source": [
    "#Loading in the glove model\n",
    "\n",
    "def loadGloveModel(gloveFile):\n",
    "    print(\"Loading Glove Model\")\n",
    "    f = open(gloveFile,'r')\n",
    "    model = {}\n",
    "    for line in f:\n",
    "        splitLine = line.split()\n",
    "        word = splitLine[0]\n",
    "        embedding = np.array([float(val) for val in splitLine[1:]])\n",
    "        model[word] = embedding\n",
    "    print(\"Done.\",len(model),\" words loaded!\")\n",
    "    return model\n",
    "\n",
    "model = loadGloveModel('glove.6B.50D.txt')"
   ]
  },
  {
   "cell_type": "markdown",
   "metadata": {},
   "source": [
    "### Loading in document lines for specific claim"
   ]
  },
  {
   "cell_type": "code",
   "execution_count": 35,
   "metadata": {},
   "outputs": [
    {
     "data": {
      "text/plain": [
       "(['nikolaj', 'coster', 'waldau', 'work', 'fox', 'broadcast', 'compani'],\n",
       " ['New_Amsterdam_-LRB-TV_series-RRB-',\n",
       "  'Nikolaj_Coster-Waldau',\n",
       "  'The_Other_Woman_-LRB-2014_film-RRB-',\n",
       "  'Ved_verdens_ende',\n",
       "  'Nukaaka_Coster-Waldau'])"
      ]
     },
     "execution_count": 35,
     "metadata": {},
     "output_type": "execute_result"
    }
   ],
   "source": [
    "#Setting the claim to check\n",
    "claim_to_check = dirichlet_similar[0]\n",
    "claim_to_check"
   ]
  },
  {
   "cell_type": "code",
   "execution_count": 36,
   "metadata": {},
   "outputs": [
    {
     "name": "stderr",
     "output_type": "stream",
     "text": [
      "100%|██████████| 109/109 [00:54<00:00,  2.01it/s]\n"
     ]
    }
   ],
   "source": [
    "#Loading in lines from relevant documents\n",
    "\n",
    "lines_from_doc = []\n",
    "\n",
    "bracket_dict = {'-lrb-': '(', '-rrb-': ')', '-lsb-': '[', '-rsb-': ']', '-lcb': '{', 'rcb': '}'}\n",
    "\n",
    "for file in tqdm(list_of_wiki):\n",
    "        with open('data_files/wiki-pages/wiki-pages/' + file, 'r') as openfile:\n",
    "                for iline,line in enumerate(openfile.readlines()):\n",
    "                    iD = json.loads(line)['id']\n",
    "                    \n",
    "                    if iD in claim_to_check[1]:\n",
    "                        doc_lines = json.loads(line)['lines']\n",
    "                        doc_line_list = doc_lines.split('\\n')\n",
    "                        \n",
    "            \n",
    "                        for doc_line in doc_line_list:\n",
    "                            doc_line = doc_line.lower()\n",
    "                            #Isolating cleaned up version of line\n",
    "                            doc_line = doc_line.split('\\t')[1]\n",
    "                            doc_line = doc_line.split('.')[0]\n",
    "                            \n",
    "                            doc_line = doc_line.split(' ')\n",
    "                            \n",
    "                            doc_line = doc_line[:-1]\n",
    "                            \n",
    "                            #Sorting out the brackets\n",
    "                            doc_line_brac = []\n",
    "                            for word in doc_line:\n",
    "                                \n",
    "                                if word in set(list(bracket_dict.keys())):\n",
    "                                    word = bracket_dict[word]\n",
    "                                \n",
    "                                doc_line_brac.append(word)\n",
    "                                \n",
    "                        #doc_tokens = nltk.word_tokenize(doc_lines)\n",
    "                            lines_from_doc.append(doc_line_brac)"
   ]
  },
  {
   "cell_type": "code",
   "execution_count": 37,
   "metadata": {},
   "outputs": [],
   "source": [
    "#Removing empty lines\n",
    "clean_doc_lines = []\n",
    "\n",
    "for line in lines_from_doc:\n",
    "    \n",
    "    if len(line) != 0:\n",
    "        clean_doc_lines.append(line)"
   ]
  },
  {
   "cell_type": "code",
   "execution_count": 40,
   "metadata": {},
   "outputs": [],
   "source": [
    "#Vector representation of all sentences and claim (1 claim and 51 sentences)\n",
    "vector_representations = []\n",
    "\n",
    "the_claim = claim_to_check[0]\n",
    "\n",
    "sum_count_vec = np.zeros(50)\n",
    "for word in the_claim:\n",
    "    try:\n",
    "        vec_rep = model[word]\n",
    "\n",
    "    except:\n",
    "        vec_rep = 0\n",
    "    \n",
    "    sum_count_vec += vec_rep\n",
    "\n",
    "vector_representations.append(sum_count_vec)\n",
    "\n",
    "for sentence in clean_doc_lines:\n",
    "    \n",
    "    sent_count_vec = np.zeros(50)\n",
    "    for word in sentence:\n",
    "        try:\n",
    "            vec_rep = model[word]\n",
    "\n",
    "        except:\n",
    "            vec_rep = 0\n",
    "\n",
    "        sent_count_vec += vec_rep\n",
    "\n",
    "    vector_representations.append(sent_count_vec)"
   ]
  },
  {
   "cell_type": "markdown",
   "metadata": {},
   "source": [
    "## Part ii)"
   ]
  },
  {
   "cell_type": "markdown",
   "metadata": {},
   "source": [
    "### Loading in training claims"
   ]
  },
  {
   "cell_type": "code",
   "execution_count": 41,
   "metadata": {},
   "outputs": [],
   "source": [
    "veri_claims = []\n",
    "veri_evid = []\n",
    "veri_label = []\n",
    "\n",
    "binary_claim_dic = {'SUPPORTS':1, 'REFUTES':0}\n",
    "\n",
    "with open('data_files/train.jsonl') as openfile:\n",
    "        for iline, line in enumerate(openfile.readlines()):\n",
    "            \n",
    "            claim_dic = json.loads(line)\n",
    "            veri_check = claim_dic['verifiable']\n",
    "            \n",
    "            if veri_check == 'VERIFIABLE':\n",
    "                claim = claim_dic['claim']\n",
    "                evidence = claim_dic['evidence']\n",
    "                label = binary_claim_dic[claim_dic['label']]\n",
    "                \n",
    "                veri_claims.append(claim)\n",
    "                veri_evid.append(evidence)\n",
    "                veri_label.append(label)"
   ]
  },
  {
   "cell_type": "code",
   "execution_count": 42,
   "metadata": {},
   "outputs": [],
   "source": [
    "#Isolating subset which can be verified by just one line\n",
    "one_line_claims = []\n",
    "one_line_evidence = []\n",
    "one_line_labels = []\n",
    "\n",
    "for idx, evid in enumerate(veri_evid):\n",
    "    if len(evid[0]) == 1:\n",
    "        one_line_evidence.append(evid)\n",
    "        one_line_claims.append(veri_claims[idx])\n",
    "        one_line_labels.append(veri_label[idx])"
   ]
  },
  {
   "cell_type": "code",
   "execution_count": 43,
   "metadata": {},
   "outputs": [],
   "source": [
    "#Making a clean evidence list\n",
    "\n",
    "clean_evidence = []\n",
    "\n",
    "for evidence in one_line_evidence:\n",
    "    \n",
    "    one_claim_list = []\n",
    "    for each in evidence:\n",
    "        one_evid = each[0]\n",
    "        \n",
    "        document = one_evid[2]\n",
    "        line = one_evid[3]\n",
    "        \n",
    "        one_claim_list.append((document, line))\n",
    "    \n",
    "    clean_evidence.append(one_claim_list)"
   ]
  },
  {
   "cell_type": "code",
   "execution_count": 44,
   "metadata": {},
   "outputs": [],
   "source": [
    "#Making a dicitonary of all required articles and lines\n",
    "all_required_dict = {}\n",
    "\n",
    "for evidence in clean_evidence:\n",
    "    \n",
    "    key_val = unicodedata.normalize('NFC', evidence[0][0])\n",
    "    \n",
    "    for each in evidence:\n",
    "        if key_val in all_required_dict:\n",
    "            all_required_dict[key_val].append(each[1])\n",
    "            all_required_dict[key_val] = list(set(all_required_dict[key_val]))\n",
    "        \n",
    "        else:\n",
    "            all_required_dict[key_val] = [each[1]] \n",
    "            \n",
    "all_required_dict\n",
    "\n",
    "#Retrieving just the article titles\n",
    "all_required_articles = list(all_required_dict.keys())"
   ]
  },
  {
   "cell_type": "code",
   "execution_count": 45,
   "metadata": {},
   "outputs": [
    {
     "name": "stderr",
     "output_type": "stream",
     "text": [
      "100%|██████████| 109/109 [00:52<00:00,  2.06it/s]\n"
     ]
    }
   ],
   "source": [
    "veri_lines_dict = {}\n",
    "number_of_lines = {}  #number of lines storing later for negative sampling irrelevant sentences\n",
    "\n",
    "bracket_dict = {'-lrb-': '(', '-rrb-': ')', '-lsb-': '[', '-rsb-': ']', '-lcb': '{', 'rcb': '}'}\n",
    "\n",
    "for file in tqdm(list_of_wiki):\n",
    "        with open('data_files/wiki-pages/wiki-pages/' + file, 'r') as openfile:\n",
    "                for iline,line in enumerate(openfile.readlines()):\n",
    "                    iD = json.loads(line)['id']\n",
    "                    \n",
    "                    iD = unicodedata.normalize('NFC',iD)\n",
    "                        \n",
    "                    if iD in all_required_dict:\n",
    "           \n",
    "                        doc_lines = json.loads(line)['lines']\n",
    "                                                \n",
    "                        doc_line_list = doc_lines.split('\\n')\n",
    "                        \n",
    "                        number_of_lines[iD] = len(doc_line_list)\n",
    "                                                                \n",
    "                        for line_number in range(0, len(doc_line_list)):\n",
    "                            doc_line = doc_line_list[line_number].lower()\n",
    "                            \n",
    "                            #Isolating cleaned up version of line\n",
    "                            doc_line = doc_line.split('\\t')[1]\n",
    "                            doc_line = doc_line.split('.')[0]\n",
    "                            \n",
    "                            doc_line = doc_line.split(' ')\n",
    "                            \n",
    "                            #Sorting out the brackets\n",
    "                            doc_line_brac = []\n",
    "                            for word in doc_line:\n",
    "                                \n",
    "                                if word in set(list(bracket_dict.keys())):\n",
    "                                    word = bracket_dict[word]\n",
    "                                    \n",
    "                                doc_line_brac.append(word)\n",
    "                            \n",
    "                            veri_lines_dict[(iD, line_number)] = doc_line_brac"
   ]
  },
  {
   "cell_type": "markdown",
   "metadata": {},
   "source": [
    "### Negative sampling to create irrelevant sentences"
   ]
  },
  {
   "cell_type": "code",
   "execution_count": 46,
   "metadata": {},
   "outputs": [],
   "source": [
    "neg_sample_list= []\n",
    "\n",
    "for evidence in clean_evidence:\n",
    "    evid_dict = {}\n",
    "    \n",
    "    for each_evid in evidence:\n",
    "        document = each_evid[0]\n",
    "        document = unicodedata.normalize('NFC',document)\n",
    "        \n",
    "        rel_line = each_evid[1]\n",
    "        \n",
    "        #Creating a dictionary with all\n",
    "        if document in evid_dict:\n",
    "            evid_dict[document].append(rel_line)\n",
    "            evid_dict[document] = list(set(evid_dict[document]))\n",
    "            \n",
    "        else:\n",
    "            evid_dict[document]  = [rel_line]\n",
    "     \n",
    "    try:\n",
    "        total_sentences = number_of_lines[document]\n",
    "        \n",
    "        sample_list = list(range(0,total_sentences))\n",
    "        sample_list = [number for number in sample_list if not number in evid_dict[document]]\n",
    "        \n",
    "    except:\n",
    "        sample_list = 'doc not found'\n",
    "        print(document)\n",
    "        \n",
    "    neg_sample_list.append((document, sample_list))"
   ]
  },
  {
   "cell_type": "code",
   "execution_count": 47,
   "metadata": {
    "scrolled": true
   },
   "outputs": [
    {
     "name": "stdout",
     "output_type": "stream",
     "text": [
      "95338\n",
      "95338\n",
      "95338\n"
     ]
    }
   ],
   "source": [
    "#Everything is same length\n",
    "print(len(one_line_claims))\n",
    "print(len(clean_evidence))\n",
    "print(len(neg_sample_list))"
   ]
  },
  {
   "cell_type": "markdown",
   "metadata": {},
   "source": [
    "### Retrieving Actual Line"
   ]
  },
  {
   "cell_type": "code",
   "execution_count": 48,
   "metadata": {},
   "outputs": [],
   "source": [
    "actual_lines_evidence = []\n",
    "\n",
    "for evidence in clean_evidence:\n",
    "    sub_list =[]\n",
    "    \n",
    "    for each in evidence:\n",
    "        each = (unicodedata.normalize('NFC',each[0]), each[1])\n",
    "        \n",
    "        actual_line = veri_lines_dict[each]\n",
    "        actual_line = actual_line[:-1]\n",
    "        sub_list.append(actual_line)\n",
    "        \n",
    "    actual_lines_evidence.append(sub_list)"
   ]
  },
  {
   "cell_type": "code",
   "execution_count": 49,
   "metadata": {},
   "outputs": [],
   "source": [
    "#Creating equivalent negative sample for every claim\n",
    "import random\n",
    "random.seed(a=0)\n",
    "\n",
    "neg_lines_evidence = []\n",
    "\n",
    "for idx, evidence in enumerate(clean_evidence):\n",
    "    neg_sub_list =[]\n",
    "    \n",
    "    for each in evidence:\n",
    "        \n",
    "        neg_sample_numbers = neg_sample_list[idx][1]\n",
    "        neg_line_number = random.choice(neg_sample_numbers)\n",
    "        \n",
    "        each = (unicodedata.normalize('NFC',each[0]), neg_line_number)\n",
    "        neg_line = veri_lines_dict[each]\n",
    "        \n",
    "        #while loop to avoid empty list\n",
    "        while len(neg_line) == 0:\n",
    "            neg_line_number = random.choice(neg_sample_numbers)\n",
    "            each = (unicodedata.normalize('NFC',each[0]), neg_line_number)\n",
    "            neg_line = veri_lines_dict[each]\n",
    "        \n",
    "        neg_line = neg_line[:-1]\n",
    "        neg_sub_list.append(neg_line)\n",
    "    \n",
    "    neg_lines_evidence.append(neg_sub_list)"
   ]
  },
  {
   "cell_type": "markdown",
   "metadata": {},
   "source": [
    "### Creating claim evidence pairs and deriving vector representations"
   ]
  },
  {
   "cell_type": "code",
   "execution_count": 50,
   "metadata": {},
   "outputs": [],
   "source": [
    "#Tokenise the claims\n",
    "\n",
    "one_line_tokenised = []\n",
    "\n",
    "for claim in one_line_claims:\n",
    "    no_stop = claim[:-1]\n",
    "    lower_claim = no_stop.lower()\n",
    "    tokenised = lower_claim.split(' ')\n",
    "    one_line_tokenised.append(tokenised)"
   ]
  },
  {
   "cell_type": "code",
   "execution_count": 51,
   "metadata": {},
   "outputs": [],
   "source": [
    "#Create verifiable tuples\n",
    "pos_claim_evidence = []\n",
    "neg_claim_evidence = []\n",
    "\n",
    "for idx,evidence in enumerate(actual_lines_evidence):\n",
    "    for each in evidence:\n",
    "        veri_tuples = (one_line_tokenised[idx], each)\n",
    "        pos_claim_evidence.append(veri_tuples)\n",
    "        \n",
    "for idx, evidence in enumerate(neg_lines_evidence):\n",
    "    for each in evidence:\n",
    "        neg_tuples = (one_line_tokenised[idx], each)\n",
    "        neg_claim_evidence.append(neg_tuples)"
   ]
  },
  {
   "cell_type": "code",
   "execution_count": 52,
   "metadata": {},
   "outputs": [
    {
     "name": "stderr",
     "output_type": "stream",
     "text": [
      "100%|██████████| 197514/197514 [00:10<00:00, 18138.39it/s]\n"
     ]
    }
   ],
   "source": [
    "#Relevant arrays\n",
    "verif_arrays = []\n",
    "\n",
    "for pair in tqdm(pos_claim_evidence):\n",
    "    claim = pair[0]\n",
    "    claim_array = np.zeros(50)\n",
    "    for word in claim:\n",
    "        try:\n",
    "            claim_array += model[word]\n",
    "        except:\n",
    "            pass\n",
    "            \n",
    "    evidence = pair[1]\n",
    "    evidence_array = np.zeros(50)\n",
    "    for word in evidence:\n",
    "        try:\n",
    "            evidence_array += model[word]\n",
    "        except:\n",
    "            pass\n",
    "\n",
    "    array_row = np.concatenate([claim_array, evidence_array])\n",
    "    \n",
    "    verif_arrays.append(array_row)"
   ]
  },
  {
   "cell_type": "code",
   "execution_count": 53,
   "metadata": {},
   "outputs": [
    {
     "name": "stderr",
     "output_type": "stream",
     "text": [
      "100%|██████████| 197514/197514 [00:06<00:00, 31407.31it/s]\n"
     ]
    }
   ],
   "source": [
    "#Irrelevant arrays\n",
    "neg_arrays = []\n",
    "\n",
    "for pair in tqdm(neg_claim_evidence):\n",
    "    claim = pair[0]\n",
    "    claim_array = np.zeros(50)\n",
    "    for word in claim:\n",
    "        try:\n",
    "            claim_array += model[word]\n",
    "        except:\n",
    "            pass\n",
    "            \n",
    "    neg_sample = pair[1]\n",
    "    neg_array = np.zeros(50)\n",
    "    for word in neg_sample:\n",
    "        try:\n",
    "            neg_array += model[word]\n",
    "        except:\n",
    "            pass\n",
    "\n",
    "    array_row = np.concatenate([claim_array, neg_array])\n",
    "    \n",
    "    neg_arrays.append(array_row)"
   ]
  },
  {
   "cell_type": "markdown",
   "metadata": {},
   "source": [
    "### Logistic Regression"
   ]
  },
  {
   "cell_type": "code",
   "execution_count": 55,
   "metadata": {},
   "outputs": [],
   "source": [
    "#Implementing feature and target matrix \n",
    "\n",
    "veri_matrix = np.array(verif_arrays)\n",
    "neg_matrix = np.array(neg_arrays)\n",
    "rel_y = np.ones(len(verif_arrays))\n",
    "neg_y = np.zeros(len(neg_arrays))\n",
    "feature_matrix = np.concatenate((veri_matrix,neg_matrix), axis=0)\n",
    "target_matrix = np.concatenate((rel_y,neg_y), axis=0)"
   ]
  },
  {
   "cell_type": "code",
   "execution_count": 56,
   "metadata": {},
   "outputs": [
    {
     "name": "stderr",
     "output_type": "stream",
     "text": [
      "100%|██████████| 1000/1000 [00:44<00:00, 22.60it/s]\n"
     ]
    }
   ],
   "source": [
    "def log_regression(x, y, epochs, learning_rate = 0.001):\n",
    "    \n",
    "    #Adding an intercept term\n",
    "    n = x.shape[0]\n",
    "    one_column = np.ones((x.shape[0],1))   #adding an intercept term\n",
    "    x = np.concatenate((one_column, x), axis = 1)\n",
    "    xT = x.T\n",
    "    \n",
    "    features = x.shape[1]\n",
    "    \n",
    "    #Initialising weights\n",
    "    w = np.zeros(features)\n",
    "    \n",
    "    avg_costs = []\n",
    "    \n",
    "    for epoch in trange(0,epochs):\n",
    "    \n",
    "        #Making prediction        \n",
    "        wx = w@xT\n",
    "        pred = 1/ (1 + np.exp(-wx))\n",
    "\n",
    "        #Calculating cost\n",
    "        class1_cost = -y*np.log(pred)\n",
    "        class0_cost = -(1-y)*np.log(1-pred)\n",
    "        \n",
    "        cost = class1_cost + class0_cost\n",
    "        avg_cost = np.mean(cost)\n",
    "\n",
    "        #Calculating gradient\n",
    "        predT = pred.T\n",
    "\n",
    "        gradient = xT@(predT - y)\n",
    "        gradient = gradient/n #average gradient\n",
    "\n",
    "        gradientT = gradient.T\n",
    "\n",
    "        gradientT *= learning_rate\n",
    "\n",
    "        w -= gradientT\n",
    "        \n",
    "        avg_costs.append(avg_cost)\n",
    "    \n",
    "    return(w, avg_costs)\n",
    "\n",
    "weights, loss_list = log_regression(feature_matrix, target_matrix.T, epochs = 1000)"
   ]
  },
  {
   "cell_type": "code",
   "execution_count": 57,
   "metadata": {},
   "outputs": [
    {
     "data": {
      "image/png": "[encoded data removed]",
      "text/plain": [
       "<Figure size 432x288 with 1 Axes>"
      ]
     },
     "metadata": {
      "needs_background": "light"
     },
     "output_type": "display_data"
    }
   ],
   "source": [
    "#Checking loss\n",
    "plt.plot(loss_list);"
   ]
  },
  {
   "cell_type": "code",
   "execution_count": 58,
   "metadata": {},
   "outputs": [
    {
     "data": {
      "text/plain": [
       "0.7204780420628412"
      ]
     },
     "execution_count": 58,
     "metadata": {},
     "output_type": "execute_result"
    }
   ],
   "source": [
    "def accuracy_func(feature_matrix, target_matrix, weights):\n",
    "    \n",
    "    one_column = np.ones((feature_matrix.shape[0],1))\n",
    "    feature_matrix = np.concatenate([one_column, feature_matrix ], axis = 1)\n",
    "    \n",
    "    lin_pred = feature_matrix@weights\n",
    "    class_pred = 1/ (1 + np.exp(-lin_pred))\n",
    "    class_pred = np.around(class_pred)\n",
    "\n",
    "    score = 0\n",
    "        \n",
    "    for idx in range(0,len(class_pred)):\n",
    "        val = target_matrix[idx]\n",
    "        pred = class_pred[idx]\n",
    "\n",
    "        if val == pred:\n",
    "            score += 1\n",
    "\n",
    "    accuracy = score/len(class_pred)\n",
    "    \n",
    "    return(class_pred, accuracy)\n",
    "\n",
    "pred, accuracy = accuracy_func(feature_matrix, target_matrix, weights)\n",
    "accuracy"
   ]
  },
  {
   "cell_type": "markdown",
   "metadata": {},
   "source": [
    "## Part iii)"
   ]
  },
  {
   "cell_type": "markdown",
   "metadata": {},
   "source": [
    "### Retrieving unique words in the dev set via cosine similarity"
   ]
  },
  {
   "cell_type": "code",
   "execution_count": 60,
   "metadata": {},
   "outputs": [],
   "source": [
    "dev_claim_dicts = []\n",
    "claims_4 = []\n",
    "claim_string_4 = []\n",
    "\n",
    "ten_claims = [137334, 111897, 89891, 181634, 219028, 108281, 204361, 54168, 105095, 18708]\n",
    "\n",
    "with open('data_files/shared_task_dev.jsonl') as openfile:\n",
    "        for iline, line in enumerate(openfile.readlines()):\n",
    "        \n",
    "            claim_dic = json.loads(line)\n",
    "            ID = claim_dic['id']\n",
    "            \n",
    "            if ID in ten_claims:\n",
    "                claim_string_4.append(claim_dic['claim'])\n",
    "                \n",
    "                dev_claim_dicts.append(claim_dic)\n",
    "                text = claim_dic['claim'].lower()\n",
    "                tokens = tokenizer.tokenize(text)\n",
    "                \n",
    "                claims_4.append(tokens)\n",
    "\n",
    "                \n",
    "#All claim words\n",
    "all_words_4 = []\n",
    "\n",
    "for claim in claims_4:\n",
    "    for word in claim:\n",
    "        all_words_4.append(word)\n",
    "        \n",
    "#Removing stop words from claims\n",
    "stop_words = set(stopwords.words('english')) \n",
    "stemmer = PorterStemmer()\n",
    "\n",
    "all_words_4 = [word for word in all_words_4 if not word in stop_words] \n",
    "all_words_4 = [stemmer.stem(word) for word in all_words_4]\n",
    "\n",
    "all_words_4 = list(set(all_words_4))\n",
    "all_words_4.sort()"
   ]
  },
  {
   "cell_type": "code",
   "execution_count": 61,
   "metadata": {},
   "outputs": [
    {
     "data": {
      "text/plain": [
       "44"
      ]
     },
     "execution_count": 61,
     "metadata": {},
     "output_type": "execute_result"
    }
   ],
   "source": [
    "len(all_words_4)"
   ]
  },
  {
   "cell_type": "markdown",
   "metadata": {},
   "source": [
    "### Constructing tf-idf matrix to retrieve documents for 10 claims"
   ]
  },
  {
   "cell_type": "code",
   "execution_count": 64,
   "metadata": {},
   "outputs": [
    {
     "name": "stderr",
     "output_type": "stream",
     "text": [
      "100%|██████████| 109/109 [1:32:18<00:00, 50.81s/it]\n"
     ]
    }
   ],
   "source": [
    "#Constructing tf-matrix for the 10 claims that need to be verified\n",
    "\n",
    "tf_matrix_4 = np.zeros((total_doc, len(all_words_4)))\n",
    "current_doc = 0\n",
    "\n",
    "brackets = ['lrb', 'rrb', 'lsb', 'rsb', 'rcb', 'lcb']\n",
    "\n",
    "for file in tqdm(list_of_wiki, position = 0, leave = True):\n",
    "        with open('data_files/wiki-pages/wiki-pages/' + file, 'r') as openfile:\n",
    "                for iline,line in enumerate(openfile.readlines()):\n",
    "                    \n",
    "                    text = json.loads(line)['text']\n",
    "                    text = text.lower()\n",
    "                    tokens = tokenizer.tokenize(text)\n",
    "                    \n",
    "                    #Removing stop words\n",
    "                    tokens = [word for word in tokens if not word in stop_words] \n",
    "                    \n",
    "                    #Removing brackets manually\n",
    "                    tokens = [word for word in tokens if not word in brackets] \n",
    "                    \n",
    "                    #Stemming\n",
    "                    tokens = [stemmer.stem(word) for word in tokens]\n",
    "                    \n",
    "                    #Count the words in documents\n",
    "                    for ind,word in enumerate(all_words_4):\n",
    "                        if word in set(tokens):\n",
    "                            word_tf = tokens.count(word)/len(tokens)\n",
    "                            tf_matrix_4[current_doc][ind] = word_tf\n",
    "                                \n",
    "                    current_doc += 1"
   ]
  },
  {
   "cell_type": "code",
   "execution_count": 65,
   "metadata": {},
   "outputs": [],
   "source": [
    "file_path = \"data_files/tf_matrix_4.pkl\"\n",
    "n_bytes = 2**31\n",
    "max_bytes = 2**31 - 1\n",
    "data = bytearray(n_bytes)\n",
    "\n",
    "bytes_out = pickle.dumps(tf_matrix_4)\n",
    "with open(file_path, 'wb') as f_out:\n",
    "    for idx in range(0, len(bytes_out), max_bytes):\n",
    "        f_out.write(bytes_out[idx:idx+max_bytes])"
   ]
  },
  {
   "cell_type": "code",
   "execution_count": 66,
   "metadata": {},
   "outputs": [],
   "source": [
    "file_path = \"data_files/tf_matrix_4.pkl\"\n",
    "n_bytes = 2**31\n",
    "max_bytes = 2**31 - 1\n",
    "data = bytearray(n_bytes)\n",
    "\n",
    "bytes_in = bytearray(0)\n",
    "input_size = os.path.getsize(file_path)\n",
    "with open(file_path, 'rb') as f_in:\n",
    "    for _ in range(0, input_size, max_bytes):\n",
    "        bytes_in += f_in.read(max_bytes)\n",
    "tf_matrix_4 = pickle.loads(bytes_in)"
   ]
  },
  {
   "cell_type": "code",
   "execution_count": 67,
   "metadata": {},
   "outputs": [],
   "source": [
    "#Making IDF matrix for question 4\n",
    "\n",
    "#Counting number of documents with each term in it\n",
    "idf_matrix_4 = np.zeros(len(all_words_4))\n",
    "\n",
    "for index in range(0, len(all_words_4)):\n",
    "    doc_count = np.count_nonzero(tf_matrix_4[:,index])\n",
    "    idf_matrix_4[index] = math.log10(total_doc/doc_count)"
   ]
  },
  {
   "cell_type": "code",
   "execution_count": 68,
   "metadata": {},
   "outputs": [],
   "source": [
    "tf_idf_4 = tf_matrix_4*idf_matrix_4"
   ]
  },
  {
   "cell_type": "code",
   "execution_count": 69,
   "metadata": {},
   "outputs": [],
   "source": [
    "clean_claims_4 = []\n",
    "\n",
    "stop_words = set(stopwords.words('english')) \n",
    "stemmer = PorterStemmer()\n",
    "\n",
    "for claim in claims_4:\n",
    "    clean_claim = [word for word in claim if not word in stop_words] \n",
    "    clean_claim = [stemmer.stem(word) for word in clean_claim]\n",
    "    clean_claims_4.append(clean_claim)"
   ]
  },
  {
   "cell_type": "code",
   "execution_count": 70,
   "metadata": {},
   "outputs": [],
   "source": [
    "#tf_idf for every claim\n",
    "claims_tf_idfs_4 = []\n",
    "\n",
    "for claim in clean_claims_4:\n",
    "    claim_tf_4 = np.zeros(len(all_words_4))\n",
    "    \n",
    "    for idx, word in enumerate(all_words_4):\n",
    "        claim_tf_4[idx] = claim.count(word)/len(claim)\n",
    "            \n",
    "    claim_tf_idf_4 = claim_tf_4*idf_matrix_4\n",
    "    claims_tf_idfs_4.append(claim_tf_idf_4)\n",
    "    \n",
    "#Norm adjusting the matrices\n",
    "norm_rows_docs_4 = []\n",
    "norm_rows_claims_4 = []\n",
    "\n",
    "for row in tf_idf_4:\n",
    "    norm_doc = np.linalg.norm(row)\n",
    "    norm_adj_row = row\n",
    "    \n",
    "    if norm_doc!= 0:\n",
    "        norm_adj_row = norm_adj_row/norm_doc\n",
    "    \n",
    "    norm_rows_docs_4.append(norm_adj_row)\n",
    "        \n",
    "for claim in claims_tf_idfs_4:\n",
    "    norm_claim = np.linalg.norm(claim)\n",
    "    norm_adj_claim = claim/norm_claim\n",
    "    norm_rows_claims_4.append(norm_adj_claim)\n",
    "    \n",
    "doc_norm_tf_idf_4 = np.array(norm_rows_docs_4)\n",
    "\n",
    "#Retrieving 5 highest for each claim\n",
    "top5_list_4 = []\n",
    "\n",
    "for claim in norm_rows_claims_4:\n",
    "    cosine_similarity = doc_norm_tf_idf_4@claim \n",
    "    highest_5_row = cosine_similarity.argsort()[-5:][::1]\n",
    "    \n",
    "    highest_5 = []\n",
    "    for ind in highest_5_row:\n",
    "        highest_5.append(ids[ind])\n",
    "        \n",
    "    highest_5.reverse()    \n",
    "    top5_list_4.append(highest_5)"
   ]
  },
  {
   "cell_type": "code",
   "execution_count": 74,
   "metadata": {},
   "outputs": [],
   "source": [
    "#Retrieving list of sentences for every document\n",
    "rel_docs = merged = list(itertools.chain.from_iterable(top5_list_4))"
   ]
  },
  {
   "cell_type": "markdown",
   "metadata": {},
   "source": [
    "### Finding all the sentences only in the retrieved documents"
   ]
  },
  {
   "cell_type": "code",
   "execution_count": 76,
   "metadata": {},
   "outputs": [
    {
     "name": "stderr",
     "output_type": "stream",
     "text": [
      "100%|██████████| 109/109 [00:55<00:00,  1.97it/s]\n",
      "100%|██████████| 109/109 [00:55<00:00,  1.97it/s]\n"
     ]
    }
   ],
   "source": [
    "all_lines_dict = {}   #Creating a dictionry of all lines\n",
    "number_of_lines = {}  #number of lines storing later for negative sampling irrelevant sentences\n",
    "\n",
    "bracket_dict = {'-lrb-': '(', '-rrb-': ')', '-lsb-': '[', '-rsb-': ']', '-lcb': '{', 'rcb': '}'}\n",
    "\n",
    "for file in tqdm(list_of_wiki, position = 0, leave = True):\n",
    "        with open('data_files/wiki-pages/wiki-pages/' + file, 'r') as openfile:\n",
    "                for iline,line in enumerate(openfile.readlines()):\n",
    "                    iD = json.loads(line)['id']\n",
    "                    \n",
    "                    iD = unicodedata.normalize('NFC',iD)\n",
    "                        \n",
    "                    if iD in rel_docs:\n",
    "           \n",
    "                        doc_lines = json.loads(line)['lines']\n",
    "                                                \n",
    "                        doc_line_list = doc_lines.split('\\n')\n",
    "                        \n",
    "                        number_of_lines[iD] = len(doc_line_list)\n",
    "                                                                \n",
    "                        for line_number in range(0, len(doc_line_list)):\n",
    "                            doc_line = doc_line_list[line_number].lower()\n",
    "                            \n",
    "                            #Isolating cleaned up version of line\n",
    "                            doc_line = doc_line.split('\\t')[1]\n",
    "                            doc_line = doc_line.split('.')[0]\n",
    "                            \n",
    "                            doc_line = doc_line.split(' ')\n",
    "                            \n",
    "                            #Sorting out the brackets\n",
    "                            if len(doc_line) != 0:\n",
    "                            \n",
    "                                doc_line_brac = []\n",
    "                                for word in doc_line:\n",
    "\n",
    "                                    if word in set(list(bracket_dict.keys())):\n",
    "                                        word = bracket_dict[word]\n",
    "\n",
    "                                    doc_line_brac.append(word)\n",
    "\n",
    "                                all_lines_dict[(iD, line_number)] = doc_line_brac"
   ]
  },
  {
   "cell_type": "markdown",
   "metadata": {},
   "source": [
    "### Making a cleaned up representation of claims and retrieving evidence"
   ]
  },
  {
   "cell_type": "code",
   "execution_count": 77,
   "metadata": {},
   "outputs": [],
   "source": [
    "claims = []\n",
    "evidences = []\n",
    "\n",
    "for dic in dev_claim_dicts:\n",
    "    evidences.append(dic['evidence'])\n",
    "    claim = dic['claim']\n",
    "    claim = claim.lower()\n",
    "    claim = claim[:-1]\n",
    "    claim = claim.split(' ')\n",
    "    \n",
    "    no_apos_claim = []\n",
    "    #Removing apostrophe for vector representation later\n",
    "    for word in claim:\n",
    "        if \"'\" in word:\n",
    "            no_apos_claim.append(word[:-2])\n",
    "            no_apos_claim.append(\"'s\")\n",
    "            \n",
    "        else:\n",
    "            no_apos_claim.append(word)\n",
    "    \n",
    "    claims.append(no_apos_claim)"
   ]
  },
  {
   "cell_type": "markdown",
   "metadata": {},
   "source": [
    "### Dictionary mapping document to claim"
   ]
  },
  {
   "cell_type": "code",
   "execution_count": 78,
   "metadata": {},
   "outputs": [],
   "source": [
    "doc_claim_mapper = {}\n",
    "\n",
    "for idx,docs in enumerate(top5_list_4):\n",
    "    for doc in docs:\n",
    "        doc_claim_mapper[doc] = claims[idx]"
   ]
  },
  {
   "cell_type": "markdown",
   "metadata": {},
   "source": [
    "### Cleaning up the evidence and making a list of relevant sentences"
   ]
  },
  {
   "cell_type": "code",
   "execution_count": 79,
   "metadata": {},
   "outputs": [],
   "source": [
    "#Code block to retrieve relevant sentences\n",
    "\n",
    "rel_sent = []\n",
    "for evidence in evidences:\n",
    "    for lst in evidence:\n",
    "        for one in lst:\n",
    "            rel_tuple = (one[2], one[3])\n",
    "            rel_sent.append(rel_tuple)\n",
    "\n",
    "rel_sent = list(set(rel_sent))"
   ]
  },
  {
   "cell_type": "markdown",
   "metadata": {},
   "source": [
    "### Identifying which sentences cosine simlarity picked up"
   ]
  },
  {
   "cell_type": "code",
   "execution_count": 81,
   "metadata": {},
   "outputs": [],
   "source": [
    "rel_search_sent = []\n",
    "\n",
    "for sent in rel_sent:\n",
    "    doc = sent[0]\n",
    "    \n",
    "    if doc in rel_docs:\n",
    "        rel_search_sent.append(sent)"
   ]
  },
  {
   "cell_type": "markdown",
   "metadata": {},
   "source": [
    "### Making a list of sentences to loop and populate 3 lists"
   ]
  },
  {
   "cell_type": "code",
   "execution_count": 83,
   "metadata": {},
   "outputs": [],
   "source": [
    "all_sentences = list(all_lines_dict.items())\n",
    "\n",
    "claim_list = []\n",
    "sentence_list = []\n",
    "target_list = []\n",
    "\n",
    "for tup in all_sentences:\n",
    "    \n",
    "    #Find the claim\n",
    "    doc = tup[0][0]\n",
    "    claim = doc_claim_mapper[doc]\n",
    "    claim_list.append(claim)\n",
    "    \n",
    "    #Find the sentence\n",
    "    sentence = tup[1]\n",
    "    sentence_list.append(sentence)\n",
    "    \n",
    "    #Find whether relevant or not\n",
    "    check = tup[0]\n",
    "    \n",
    "    target = 0\n",
    "    if check in rel_sent:\n",
    "        target = 1\n",
    "    target_list.append(target)"
   ]
  },
  {
   "cell_type": "markdown",
   "metadata": {},
   "source": [
    "### Building Vector Representations\n"
   ]
  },
  {
   "cell_type": "code",
   "execution_count": 84,
   "metadata": {},
   "outputs": [],
   "source": [
    "claim_arrays = []\n",
    "sentence_arrays = []\n",
    "\n",
    "for claim in claim_list:\n",
    "    claim_array = np.zeros(50)\n",
    "    for word in claim:\n",
    "        claim_array += model[word]\n",
    "    claim_arrays.append(claim_array)\n",
    "    \n",
    "\n",
    "for sentence in sentence_list:\n",
    "    sentence_array = np.zeros(50)\n",
    "    for word in sentence:\n",
    "        try:\n",
    "            sentence_array += model[word]\n",
    "        except:\n",
    "            pass\n",
    "    sentence_arrays.append(sentence_array)\n",
    "    \n",
    "claim_matrix = np.array(claim_arrays)\n",
    "sentence_matrix = np.array(sentence_arrays)\n",
    "one_column = np.ones((len(claim_arrays),1))\n",
    "\n",
    "#Making feature matrix\n",
    "feature_matrix_dev = np.concatenate([one_column,claim_matrix, sentence_matrix], axis = 1)\n",
    "target_matrix_dev = np.array(target_list)"
   ]
  },
  {
   "cell_type": "markdown",
   "metadata": {},
   "source": [
    "### Making prediction on dev set"
   ]
  },
  {
   "cell_type": "code",
   "execution_count": 85,
   "metadata": {},
   "outputs": [
    {
     "data": {
      "text/plain": [
       "0.78"
      ]
     },
     "execution_count": 85,
     "metadata": {},
     "output_type": "execute_result"
    }
   ],
   "source": [
    "lin_pred = feature_matrix_dev@weights\n",
    "class_pred = 1/ (1 + np.exp(-lin_pred))\n",
    "class_pred = np.around(class_pred)\n",
    "\n",
    "score = 0\n",
    "\n",
    "for idx in range(0,len(class_pred)):\n",
    "    val = target_matrix_dev[idx]\n",
    "    pred = class_pred[idx]\n",
    "    \n",
    "    if val == pred:\n",
    "        score += 1\n",
    "        \n",
    "accuracy = score/len(class_pred)\n",
    "accuracy"
   ]
  },
  {
   "cell_type": "markdown",
   "metadata": {},
   "source": [
    "# Question 5"
   ]
  },
  {
   "cell_type": "markdown",
   "metadata": {},
   "source": [
    "### Creating test set for logistic regression in same manner as training set"
   ]
  },
  {
   "cell_type": "code",
   "execution_count": 89,
   "metadata": {},
   "outputs": [
    {
     "name": "stderr",
     "output_type": "stream",
     "text": [
      "100%|██████████| 109/109 [00:51<00:00,  2.11it/s]\n"
     ]
    }
   ],
   "source": [
    "#Recalling same code chunk from before but with shared_task_dev file via function\n",
    "def pair_maker(filename):\n",
    "    \n",
    "    veri_claims = []\n",
    "    veri_evid = []\n",
    "    veri_label = []\n",
    "\n",
    "    binary_claim_dic = {'SUPPORTS':1, 'REFUTES':0}\n",
    "\n",
    "    with open(filename) as openfile:\n",
    "            for iline, line in enumerate(openfile.readlines()):\n",
    "\n",
    "                claim_dic = json.loads(line)\n",
    "                veri_check = claim_dic['verifiable']\n",
    "\n",
    "                if veri_check == 'VERIFIABLE':\n",
    "                    claim = claim_dic['claim']\n",
    "                    evidence = claim_dic['evidence']\n",
    "                    label = binary_claim_dic[claim_dic['label']]\n",
    "\n",
    "                    veri_claims.append(claim)\n",
    "                    veri_evid.append(evidence)\n",
    "                    veri_label.append(label)\n",
    "                    \n",
    "    one_line_claims = []\n",
    "    one_line_evidence = []\n",
    "    one_line_labels = []\n",
    "\n",
    "    for idx, evid in enumerate(veri_evid):\n",
    "        if len(evid[0]) == 1:\n",
    "            one_line_evidence.append(evid)\n",
    "            one_line_claims.append(veri_claims[idx])\n",
    "            one_line_labels.append(veri_label[idx])\n",
    "\n",
    "    clean_evidence = []\n",
    "    \n",
    "    for evidence in one_line_evidence:\n",
    "\n",
    "        one_claim_list = []\n",
    "        for each in evidence:\n",
    "            one_evid = each[0]\n",
    "\n",
    "            document = one_evid[2]\n",
    "            line = one_evid[3]\n",
    "\n",
    "            one_claim_list.append((document, line))\n",
    "\n",
    "        clean_evidence.append(one_claim_list)\n",
    "\n",
    "\n",
    "    #Making a dicitonary of all required articles and lines\n",
    "    all_required_dict = {}\n",
    "\n",
    "    for evidence in clean_evidence:\n",
    "\n",
    "        key_val = unicodedata.normalize('NFC', evidence[0][0])\n",
    "\n",
    "        for each in evidence:\n",
    "            if key_val in all_required_dict:\n",
    "                all_required_dict[key_val].append(each[1])\n",
    "                all_required_dict[key_val] = list(set(all_required_dict[key_val]))\n",
    "\n",
    "            else:\n",
    "                all_required_dict[key_val] = [each[1]] \n",
    "\n",
    "    all_required_dict\n",
    "\n",
    "    #Retrieving just the article titles\n",
    "    all_required_articles = list(all_required_dict.keys())\n",
    "\n",
    "    veri_lines_dict = {}\n",
    "    number_of_lines = {}  #number of lines storing later for negative sampling irrelevant sentences\n",
    "\n",
    "    bracket_dict = {'-lrb-': '(', '-rrb-': ')', '-lsb-': '[', '-rsb-': ']', '-lcb': '{', 'rcb': '}'}\n",
    "\n",
    "    for file in tqdm(list_of_wiki, position = 0, leave = True):\n",
    "            with open('data_files/wiki-pages/wiki-pages/' + file, 'r') as openfile:\n",
    "                    for iline,line in enumerate(openfile.readlines()):\n",
    "                        iD = json.loads(line)['id']\n",
    "\n",
    "                        iD = unicodedata.normalize('NFC',iD)\n",
    "\n",
    "                        if iD in all_required_dict:\n",
    "\n",
    "                            doc_lines = json.loads(line)['lines']\n",
    "\n",
    "                            doc_line_list = doc_lines.split('\\n')\n",
    "\n",
    "                            number_of_lines[iD] = len(doc_line_list)\n",
    "\n",
    "                            for line_number in range(0, len(doc_line_list)):\n",
    "                                doc_line = doc_line_list[line_number].lower()\n",
    "\n",
    "                                #Isolating cleaned up version of line\n",
    "                                doc_line = doc_line.split('\\t')[1]\n",
    "                                doc_line = doc_line.split('.')[0]\n",
    "\n",
    "                                doc_line = doc_line.split(' ')\n",
    "\n",
    "                                #Sorting out the brackets\n",
    "                                doc_line_brac = []\n",
    "                                for word in doc_line:\n",
    "\n",
    "                                    if word in set(list(bracket_dict.keys())):\n",
    "                                        word = bracket_dict[word]\n",
    "\n",
    "                                    doc_line_brac.append(word)\n",
    "\n",
    "                                veri_lines_dict[(iD, line_number)] = doc_line_brac\n",
    "\n",
    "    neg_sample_list= []\n",
    "\n",
    "    for evidence in clean_evidence:\n",
    "        evid_dict = {}\n",
    "\n",
    "        for each_evid in evidence:\n",
    "            document = each_evid[0]\n",
    "            document = unicodedata.normalize('NFC',document)\n",
    "\n",
    "            rel_line = each_evid[1]\n",
    "\n",
    "            #Creating a dictionary with all\n",
    "            if document in evid_dict:\n",
    "                evid_dict[document].append(rel_line)\n",
    "                evid_dict[document] = list(set(evid_dict[document]))\n",
    "\n",
    "            else:\n",
    "                evid_dict[document]  = [rel_line]\n",
    "\n",
    "        try:\n",
    "            total_sentences = number_of_lines[document]\n",
    "\n",
    "            sample_list = list(range(0,total_sentences))\n",
    "            sample_list = [number for number in sample_list if not number in evid_dict[document]]\n",
    "\n",
    "        except:\n",
    "            sample_list = 'doc not found'\n",
    "\n",
    "        neg_sample_list.append((document, sample_list))\n",
    "\n",
    "    actual_lines_evidence = []\n",
    "\n",
    "    for evidence in clean_evidence:\n",
    "        sub_list =[]\n",
    "\n",
    "        for each in evidence:\n",
    "            each = (unicodedata.normalize('NFC',each[0]), each[1])\n",
    "\n",
    "            actual_line = veri_lines_dict[each]\n",
    "            actual_line = actual_line[:-1]\n",
    "            sub_list.append(actual_line)\n",
    "\n",
    "        actual_lines_evidence.append(sub_list)\n",
    "\n",
    "    #Creating equivalent negative sample for every claim\n",
    "    neg_lines_evidence = []\n",
    "\n",
    "    for idx, evidence in enumerate(clean_evidence):\n",
    "        neg_sub_list =[]\n",
    "\n",
    "        for each in evidence:\n",
    "\n",
    "            neg_sample_numbers = neg_sample_list[idx][1]\n",
    "            neg_line_number = random.choice(neg_sample_numbers)\n",
    "\n",
    "            each = (unicodedata.normalize('NFC',each[0]), neg_line_number)\n",
    "            neg_line = veri_lines_dict[each]\n",
    "\n",
    "            #while loop to avoid empty list\n",
    "            while len(neg_line) == 0:\n",
    "                neg_line_number = random.choice(neg_sample_numbers)\n",
    "                each = (unicodedata.normalize('NFC',each[0]), neg_line_number)\n",
    "                neg_line = veri_lines_dict[each]\n",
    "\n",
    "            neg_line = neg_line[:-1]\n",
    "            neg_sub_list.append(neg_line)\n",
    "\n",
    "        neg_lines_evidence.append(neg_sub_list)\n",
    "\n",
    "    #tokenise the claims\n",
    "\n",
    "    one_line_tokenised = []\n",
    "\n",
    "    for claim in one_line_claims:\n",
    "        no_stop = claim[:-1]\n",
    "        lower_claim = no_stop.lower()\n",
    "        tokenised = lower_claim.split(' ')\n",
    "        one_line_tokenised.append(tokenised)\n",
    "\n",
    "    #Create verifiable tuples\n",
    "    pos_claim_evidence = []\n",
    "    neg_claim_evidence = []\n",
    "\n",
    "    for idx,evidence in enumerate(actual_lines_evidence):\n",
    "        for each in evidence:\n",
    "            veri_tuples = (one_line_tokenised[idx], each)\n",
    "            pos_claim_evidence.append(veri_tuples)\n",
    "\n",
    "    for idx, evidence in enumerate(neg_lines_evidence):\n",
    "        for each in evidence:\n",
    "            neg_tuples = (one_line_tokenised[idx], each)\n",
    "            neg_claim_evidence.append(neg_tuples)\n",
    "            \n",
    "    return(pos_claim_evidence, neg_claim_evidence)\n",
    "\n",
    "pos_claim_5, neg_claim_5 = pair_maker('data_files/shared_task_dev.jsonl')"
   ]
  },
  {
   "cell_type": "markdown",
   "metadata": {},
   "source": [
    "### Creating arrays"
   ]
  },
  {
   "cell_type": "code",
   "execution_count": 91,
   "metadata": {},
   "outputs": [
    {
     "name": "stderr",
     "output_type": "stream",
     "text": [
      "100%|██████████| 22556/22556 [00:01<00:00, 20585.27it/s]\n",
      "100%|██████████| 22556/22556 [00:00<00:00, 32592.65it/s]\n"
     ]
    }
   ],
   "source": [
    "#Making representation arrays\n",
    "verif_arrays_5 = []\n",
    "\n",
    "for pair in tqdm(pos_claim_5, position = 0, leave = True):\n",
    "    claim = pair[0]\n",
    "    claim_array = np.zeros(50)\n",
    "    for word in claim:\n",
    "        try:\n",
    "            claim_array += model[word]\n",
    "        except:\n",
    "            pass\n",
    "            \n",
    "    evidence = pair[1]\n",
    "    evidence_array = np.zeros(50)\n",
    "    for word in evidence:\n",
    "        try:\n",
    "            evidence_array += model[word]\n",
    "        except:\n",
    "            pass\n",
    "\n",
    "    array_row = np.concatenate([claim_array, evidence_array])\n",
    "    \n",
    "    verif_arrays_5.append(array_row)\n",
    "    \n",
    "#Making representation arrays\n",
    "neg_arrays_5 = []\n",
    "\n",
    "for pair in tqdm(neg_claim_5, position = 0, leave = True):\n",
    "    claim = pair[0]\n",
    "    claim_array = np.zeros(50)\n",
    "    for word in claim:\n",
    "        try:\n",
    "            claim_array += model[word]\n",
    "        except:\n",
    "            pass\n",
    "            \n",
    "    evidence = pair[1]\n",
    "    evidence_array = np.zeros(50)\n",
    "    for word in evidence:\n",
    "        try:\n",
    "            evidence_array += model[word]\n",
    "        except:\n",
    "            pass\n",
    "\n",
    "    array_row = np.concatenate([claim_array, evidence_array])\n",
    "    \n",
    "    neg_arrays_5.append(array_row)"
   ]
  },
  {
   "cell_type": "code",
   "execution_count": 92,
   "metadata": {},
   "outputs": [],
   "source": [
    "veri_matrix_5 = np.array(verif_arrays_5)\n",
    "neg_matrix_5 = np.array(neg_arrays_5)\n",
    "rel_y5 = np.ones(len(verif_arrays_5))\n",
    "neg_y5 = np.zeros(len(neg_arrays_5))\n",
    "feature_matrix_5 = np.concatenate((veri_matrix_5,neg_matrix_5), axis=0)\n",
    "target_matrix_5 = np.concatenate((rel_y5,neg_y5), axis=0)"
   ]
  },
  {
   "cell_type": "markdown",
   "metadata": {},
   "source": [
    "### Calculting relevant metrics"
   ]
  },
  {
   "cell_type": "code",
   "execution_count": 93,
   "metadata": {},
   "outputs": [],
   "source": [
    "def accuracy_func(feature_matrix, target_matrix, weights):\n",
    "    \n",
    "    one_column = np.ones((feature_matrix.shape[0],1))\n",
    "    feature_matrix = np.concatenate([one_column, feature_matrix], axis = 1)\n",
    "    \n",
    "    lin_pred = feature_matrix@weights\n",
    "    class_pred = 1/ (1 + np.exp(-lin_pred))\n",
    "    class_pred = np.around(class_pred)\n",
    "\n",
    "    score = 0\n",
    "        \n",
    "    for idx in range(0,len(class_pred)):\n",
    "        val = target_matrix[idx]\n",
    "        pred = class_pred[idx]\n",
    "\n",
    "        if val == pred:\n",
    "            score += 1\n",
    "\n",
    "    accuracy = score/len(class_pred)\n",
    "    \n",
    "    return(class_pred, accuracy)"
   ]
  },
  {
   "cell_type": "code",
   "execution_count": 94,
   "metadata": {},
   "outputs": [],
   "source": [
    "preds, acc = accuracy_func(feature_matrix_5, target_matrix_5, weights)"
   ]
  },
  {
   "cell_type": "code",
   "execution_count": 95,
   "metadata": {},
   "outputs": [],
   "source": [
    "#Precision\n",
    "all_data = len(preds)\n",
    "\n",
    "numer = 0\n",
    "denom = 0\n",
    "for i in range(0, all_data):\n",
    "    if preds[i] == 1:    #Checks if retrieved\n",
    "        denom += 1\n",
    "        \n",
    "    if (preds[i] == 1) and (target_matrix_5[i] == 1):  #Actual correct claims retrieved\n",
    "        numer += 1\n",
    "        \n",
    "precision = numer/denom"
   ]
  },
  {
   "cell_type": "code",
   "execution_count": 96,
   "metadata": {},
   "outputs": [],
   "source": [
    "#Calculating recall\n",
    "\n",
    "numer = 0\n",
    "denom = 0\n",
    "for i in range(0, all_data):\n",
    "    if target_matrix_5[i] == 1:    #Total relevant\n",
    "        denom += 1\n",
    "        \n",
    "    if (preds[i] == 1) and (target_matrix_5[i] == 1):  #Correctly retrieved\n",
    "        numer += 1\n",
    "    \n",
    "recall = numer/denom"
   ]
  },
  {
   "cell_type": "code",
   "execution_count": 97,
   "metadata": {},
   "outputs": [],
   "source": [
    "#F1 Score\n",
    "F1 = 2*(precision*recall)/(precision+recall)"
   ]
  },
  {
   "cell_type": "markdown",
   "metadata": {},
   "source": [
    "# Question 6"
   ]
  },
  {
   "cell_type": "markdown",
   "metadata": {},
   "source": [
    "### Creating feature and target matrices then actual model for 6 and 8 are built on separate files labelled Question 6 and Question 8"
   ]
  },
  {
   "cell_type": "code",
   "execution_count": 98,
   "metadata": {},
   "outputs": [],
   "source": [
    "def mapper6(filename):\n",
    "    \n",
    "    veri_claims = []\n",
    "    veri_evid = []\n",
    "    veri_label = []\n",
    "\n",
    "\n",
    "    with open(filename) as openfile:\n",
    "                for iline, line in enumerate(openfile.readlines()):\n",
    "\n",
    "                    claim_dic = json.loads(line)\n",
    "                    veri_check = claim_dic['verifiable']\n",
    "\n",
    "                    if veri_check == 'VERIFIABLE':\n",
    "                        claim = claim_dic['claim']\n",
    "                        evidence = claim_dic['evidence']\n",
    "                        label = binary_claim_dic[claim_dic['label']]\n",
    "\n",
    "                        veri_claims.append(claim)\n",
    "                        veri_evid.append(evidence)\n",
    "                        veri_label.append(label)\n",
    "\n",
    "    one_line_claims = []\n",
    "    one_line_evidence = []\n",
    "    one_line_labels = []\n",
    "\n",
    "    for idx, evid in enumerate(veri_evid):\n",
    "        if len(evid[0]) == 1:\n",
    "            one_line_evidence.append(evid)\n",
    "            one_line_claims.append(veri_claims[idx])\n",
    "            one_line_labels.append(veri_label[idx])\n",
    "\n",
    "    clean_evidence = []\n",
    "\n",
    "    for evidence in one_line_evidence:\n",
    "\n",
    "        one_claim_list = []\n",
    "        for each in evidence:\n",
    "            one_evid = each[0]\n",
    "\n",
    "            document = one_evid[2]\n",
    "            line = one_evid[3]\n",
    "\n",
    "            one_claim_list.append((document, line))\n",
    "\n",
    "        clean_evidence.append(one_claim_list)\n",
    "\n",
    "    all_required_dict = {}\n",
    "\n",
    "    for evidence in clean_evidence:\n",
    "\n",
    "        key_val = unicodedata.normalize('NFC', evidence[0][0])\n",
    "\n",
    "        for each in evidence:\n",
    "            if key_val in all_required_dict:\n",
    "                all_required_dict[key_val].append(each[1])\n",
    "                all_required_dict[key_val] = list(set(all_required_dict[key_val]))\n",
    "\n",
    "            else:\n",
    "                all_required_dict[key_val] = [each[1]] \n",
    "\n",
    "\n",
    "    #Retrieving just the article titles\n",
    "    all_required_articles = list(all_required_dict.keys())\n",
    "\n",
    "    veri_lines_dict = {}\n",
    "\n",
    "    bracket_dict = {'-lrb-': '(', '-rrb-': ')', '-lsb-': '[', '-rsb-': ']', '-lcb': '{', 'rcb': '}'}\n",
    "\n",
    "    for file in tqdm(list_of_wiki, position = 0, leave = True):\n",
    "            with open('data_files/wiki-pages/wiki-pages/' + file, 'r') as openfile:\n",
    "                    for iline,line in enumerate(openfile.readlines()):\n",
    "                        iD = json.loads(line)['id']\n",
    "\n",
    "                        iD = unicodedata.normalize('NFC',iD)\n",
    "\n",
    "                        if iD in all_required_dict:\n",
    "\n",
    "                            doc_lines = json.loads(line)['lines']\n",
    "\n",
    "                            doc_line_list = doc_lines.split('\\n')\n",
    "\n",
    "                            number_of_lines[iD] = len(doc_line_list)\n",
    "\n",
    "                            for line_number in range(0, len(doc_line_list)):\n",
    "                                doc_line = doc_line_list[line_number].lower()\n",
    "\n",
    "                                #Isolating cleaned up version of line\n",
    "                                doc_line = doc_line.split('\\t')[1]\n",
    "                                doc_line = doc_line.split('.')[0]\n",
    "\n",
    "                                doc_line = doc_line.split(' ')\n",
    "\n",
    "                                #Sorting out the brackets\n",
    "                                doc_line_brac = []\n",
    "                                for word in doc_line:\n",
    "\n",
    "                                    if word in set(list(bracket_dict.keys())):\n",
    "                                        word = bracket_dict[word]\n",
    "\n",
    "                                    doc_line_brac.append(word)\n",
    "\n",
    "                                veri_lines_dict[(iD, line_number)] = doc_line_brac\n",
    "\n",
    "    actual_lines_evidence = []\n",
    "\n",
    "    for evidence in clean_evidence:\n",
    "        sub_list =[]\n",
    "\n",
    "        for each in evidence:\n",
    "            each = (unicodedata.normalize('NFC',each[0]), each[1])\n",
    "\n",
    "            actual_line = veri_lines_dict[each]\n",
    "            actual_line = actual_line[:-1]\n",
    "            sub_list.append(actual_line)\n",
    "\n",
    "        actual_lines_evidence.append(sub_list)\n",
    "\n",
    "    one_line_tokenised = []\n",
    "\n",
    "    #Claims have a lot of 's so need modification to claim\n",
    "    for claim in one_line_claims:\n",
    "        no_stop = claim[:-1]\n",
    "        lower_claim = no_stop.lower()\n",
    "        tokenised = lower_claim.split(' ')\n",
    "\n",
    "        one_line_tokenised.append(tokenised)\n",
    "\n",
    "    clean_claims = []\n",
    "    for claim in one_line_claims:   \n",
    "        claim = claim.lower()\n",
    "        no_stop = claim[:-1]\n",
    "        claim = claim.split(' ')\n",
    "\n",
    "        no_apos_claim = []\n",
    "        #Removing apostrophe for vector representation later\n",
    "        for word in claim:\n",
    "            if \"'\" in word:\n",
    "                no_apos_claim.append(word[:-2])\n",
    "                no_apos_claim.append(\"'s\")\n",
    "\n",
    "            else:\n",
    "                no_apos_claim.append(word)\n",
    "\n",
    "        clean_claims.append(no_apos_claim)\n",
    "\n",
    "    clean_claims = []\n",
    "    for claim in one_line_claims:   \n",
    "        claim = claim.lower()\n",
    "        no_stop = claim[:-1]\n",
    "        claim = claim.split(' ')\n",
    "\n",
    "        no_apos_claim = []\n",
    "        #Removing apostrophe for vector representation later\n",
    "        for word in claim:\n",
    "            if \"'\" in word:\n",
    "                no_apos_claim.append(word[:-2])\n",
    "                no_apos_claim.append(\"'s\")\n",
    "\n",
    "            else:\n",
    "                no_apos_claim.append(word)\n",
    "\n",
    "        clean_claims.append(no_apos_claim)\n",
    "\n",
    "    pair_claims = []\n",
    "    pair_evid = []\n",
    "    pair_label = []\n",
    "\n",
    "    for idx, sentences in enumerate(actual_lines_evidence):\n",
    "        for sentence in sentences:\n",
    "            pair_evid.append(sentence)\n",
    "            pair_claims.append(clean_claims[idx])\n",
    "            pair_label.append(one_line_labels[idx])\n",
    "            \n",
    "    return(pair_claims, pair_evid, pair_label)"
   ]
  },
  {
   "cell_type": "code",
   "execution_count": 99,
   "metadata": {},
   "outputs": [
    {
     "name": "stderr",
     "output_type": "stream",
     "text": [
      "100%|██████████| 109/109 [00:53<00:00,  2.04it/s]\n"
     ]
    }
   ],
   "source": [
    "claims6, evid6, label6 = mapper6('data_files/train.jsonl')"
   ]
  },
  {
   "cell_type": "code",
   "execution_count": 100,
   "metadata": {},
   "outputs": [],
   "source": [
    "pickle.dump(claims6, open(\"pkl_files/claims6.p\", \"wb\"))\n",
    "pickle.dump(evid6, open(\"pkl_files/evid6.p\", \"wb\"))\n",
    "pickle.dump(label6, open(\"pkl_files/label6.p\", \"wb\"))"
   ]
  },
  {
   "cell_type": "code",
   "execution_count": 101,
   "metadata": {},
   "outputs": [
    {
     "name": "stderr",
     "output_type": "stream",
     "text": [
      "100%|██████████| 109/109 [00:53<00:00,  2.03it/s]\n"
     ]
    }
   ],
   "source": [
    "claimstest, evidtest, labeltest = mapper6('data_files/shared_task_dev.jsonl')"
   ]
  },
  {
   "cell_type": "code",
   "execution_count": 102,
   "metadata": {},
   "outputs": [],
   "source": [
    "pickle.dump(claimstest, open(\"pkl_files/claimstest.p\", \"wb\"))\n",
    "pickle.dump(evidtest, open(\"pkl_files/evidtest.p\", \"wb\"))\n",
    "pickle.dump(labeltest, open(\"pkl_files/labeltest.p\", \"wb\"))"
   ]
  },
  {
   "cell_type": "markdown",
   "metadata": {},
   "source": [
    "### See files Question 6 and 8 for continuation"
   ]
  },
  {
   "cell_type": "markdown",
   "metadata": {},
   "source": [
    "### Appendix: Code to make json file"
   ]
  },
  {
   "cell_type": "code",
   "execution_count": 143,
   "metadata": {},
   "outputs": [],
   "source": [
    "def json_extractor(filename):\n",
    "    \n",
    "    veri_id = []\n",
    "    veri_evid = []\n",
    "\n",
    "\n",
    "    with open(filename) as openfile:\n",
    "                for iline, line in enumerate(openfile.readlines()):\n",
    "\n",
    "                    claim_dic = json.loads(line)\n",
    "                    veri_check = claim_dic['verifiable']\n",
    "\n",
    "                    if veri_check == 'VERIFIABLE':\n",
    "                        veri_id.append(claim_dic['id'])\n",
    "                        veri_evid.append(claim_dic['evidence'])\n",
    "                        \n",
    "\n",
    "    \n",
    "    one_line_evidence = []\n",
    "    one_line_id = []\n",
    "\n",
    "    for idx, evid in enumerate(veri_evid):\n",
    "        if len(evid[0]) == 1:\n",
    "            one_line_evidence.append(evid)\n",
    "            one_line_id.append(veri_id[idx])\n",
    "            \n",
    "    clean_evidence = []\n",
    "\n",
    "    for evidence in one_line_evidence:\n",
    "\n",
    "        one_claim_list = []\n",
    "        for each in evidence:\n",
    "            one_evid = each[0]\n",
    "\n",
    "            document = one_evid[2]\n",
    "            line = one_evid[3]\n",
    "\n",
    "            one_claim_list.append((document, line))\n",
    "\n",
    "        clean_evidence.append(one_claim_list)\n",
    "        \n",
    "    pair_evidence = []\n",
    "    pair_iD = []\n",
    "\n",
    "    for idx, evidences in enumerate(clean_evidence):\n",
    "        for evid in evidences:\n",
    "            pair_evidence.append(evid)\n",
    "            pair_iD.append(one_line_id[idx])\n",
    "            \n",
    "    return(pair_evidence, pair_iD)\n",
    "                        \n",
    "json_evidence, json_iD= json_extractor('data_files/shared_task_dev.jsonl')"
   ]
  },
  {
   "cell_type": "code",
   "execution_count": 150,
   "metadata": {},
   "outputs": [],
   "source": [
    "final_pred = pickle.load( open( \"pkl_files/final_predictions.p\", \"rb\" ) )\n",
    "bo_final_pred = ['SUPPORTS' if x == True else \"REFUTES\" for x in final_pred]"
   ]
  },
  {
   "cell_type": "code",
   "execution_count": 151,
   "metadata": {},
   "outputs": [],
   "source": [
    "list_of_dics = []\n",
    "\n",
    "for idx,ID in enumerate(json_iD):\n",
    "    temp_dic = {}\n",
    "    temp_dic[\"id\"] = json_iD[idx]\n",
    "    temp_dic[\"predicted_label\"] = bo_final_pred[idx]\n",
    "    temp_dic[\"evidence\"] = json_evidence[idx]\n",
    "    \n",
    "    list_of_dics.append(temp_dic)"
   ]
  },
  {
   "cell_type": "code",
   "execution_count": null,
   "metadata": {},
   "outputs": [],
   "source": [
    "unique_dics = []\n",
    "\n",
    "for i in range(0, len(list_of_dics)):\n",
    "    if list_of_dics[i] not in list_of_dics[i+1:]:\n",
    "        unique_dics.append(list_of_dics[i])"
   ]
  },
  {
   "cell_type": "code",
   "execution_count": 147,
   "metadata": {},
   "outputs": [],
   "source": [
    "output_file = \"predictions.jsonl\"\n",
    "\n",
    "json_objects = []\n",
    "\n",
    "for dic in unique_dics:\n",
    "    json_objects.append(json.dumps(dic))\n",
    "line = \"\\n\".join(json_objects)\n",
    "\n",
    "with open(output_file, \"w\") as outfile:\n",
    "    outfile.write(line)"
   ]
  },
  {
   "cell_type": "code",
   "execution_count": null,
   "metadata": {},
   "outputs": [],
   "source": []
  }
 ],
 "metadata": {
  "kernelspec": {
   "display_name": "Python 3",
   "language": "python",
   "name": "python3"
  },
  "language_info": {
   "codemirror_mode": {
    "name": "ipython",
    "version": 3
   },
   "file_extension": ".py",
   "mimetype": "text/x-python",
   "name": "python",
   "nbconvert_exporter": "python",
   "pygments_lexer": "ipython3",
   "version": "3.7.4"
  }
 },
 "nbformat": 4,
 "nbformat_minor": 2
}
