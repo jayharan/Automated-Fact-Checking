{
 "cells": [
  {
   "cell_type": "markdown",
   "metadata": {},
   "source": [
    "# Final model for Question 8"
   ]
  },
  {
   "cell_type": "code",
   "execution_count": 2,
   "metadata": {},
   "outputs": [
    {
     "name": "stderr",
     "output_type": "stream",
     "text": [
      "Using TensorFlow backend.\n"
     ]
    }
   ],
   "source": [
    "import json\n",
    "import random\n",
    "import re\n",
    "import os\n",
    "import sys\n",
    "import collections\n",
    "import nltk\n",
    "import tqdm\n",
    "import itertools\n",
    "import string\n",
    "import math\n",
    "import pandas as pd\n",
    "import numpy as np\n",
    "import pickle\n",
    "import matplotlib.pyplot as plt\n",
    "import scipy as sp\n",
    "from scipy import sparse\n",
    "import os.path\n",
    "import unicodedata\n",
    "\n",
    "from tqdm import tqdm, trange\n",
    "from collections import Counter\n",
    "from nltk import word_tokenize\n",
    "from nltk.tokenize import RegexpTokenizer\n",
    "from nltk.corpus import stopwords \n",
    "from nltk.tokenize import word_tokenize \n",
    "from nltk.stem.porter import PorterStemmer\n",
    "\n",
    "tokenizer = RegexpTokenizer(r'\\w+')\n",
    "\n",
    "import keras\n",
    "from keras.models import Sequential, Model\n",
    "from keras.layers import Dense, Input, LSTM, Multiply\n",
    "\n",
    "from keras.utils import plot_model\n",
    "from keras.models import Model\n",
    "from keras.layers import Input\n",
    "from keras.layers import Dense\n",
    "from keras.layers.recurrent import LSTM\n",
    "from keras.layers.merge import concatenate\n",
    "from keras.layers import Add, Subtract\n",
    "\n",
    "from keras.callbacks import ModelCheckpoint, EarlyStopping\n",
    "\n",
    "np.random.seed(7)"
   ]
  },
  {
   "cell_type": "code",
   "execution_count": 3,
   "metadata": {},
   "outputs": [
    {
     "name": "stdout",
     "output_type": "stream",
     "text": [
      "Loading Glove Model\n",
      "Done. 400000  words loaded!\n"
     ]
    }
   ],
   "source": [
    "def loadGloveModel(gloveFile):\n",
    "    print(\"Loading Glove Model\")\n",
    "    f = open(gloveFile,'r')\n",
    "    model = {}\n",
    "    for line in f:\n",
    "        splitLine = line.split()\n",
    "        word = splitLine[0]\n",
    "        embedding = np.array([float(val) for val in splitLine[1:]])\n",
    "        model[word] = embedding\n",
    "    print(\"Done.\",len(model),\" words loaded!\")\n",
    "    return model\n",
    "\n",
    "modelw = loadGloveModel('glove.6B.50d.txt')"
   ]
  },
  {
   "cell_type": "markdown",
   "metadata": {},
   "source": [
    "### Code Cell to remove full stops"
   ]
  },
  {
   "cell_type": "code",
   "execution_count": 4,
   "metadata": {},
   "outputs": [],
   "source": [
    "claims6 = pickle.load(open( \"pkl_files/claims6.p\", \"rb\" ))\n",
    "evid6 = pickle.load(open( \"pkl_files/evid6.p\", \"rb\" ))\n",
    "label6 = pickle.load(open( \"pkl_files/label6.p\", \"rb\" ))\n",
    "\n",
    "claimstest = pickle.load(open( \"pkl_files/claimstest.p\", \"rb\" ))\n",
    "evidtest = pickle.load(open( \"pkl_files/evidtest.p\", \"rb\" ))\n",
    "labeltest = pickle.load(open( \"pkl_files/labeltest.p\", \"rb\" ))\n",
    "\n",
    "claims_temp = []\n",
    "\n",
    "for claim in claims6:\n",
    "    last_word = claim[-1]\n",
    "    temp_claim = claim[:-1]\n",
    "    temp_claim.append(last_word[:-1])\n",
    "    claims_temp.append(temp_claim)\n",
    "    \n",
    "claims6 = claims_temp\n",
    "\n",
    "claims_temp = []\n",
    "\n",
    "for claim in claimstest:\n",
    "    last_word = claim[-1]\n",
    "    temp_claim = claim[:-1]\n",
    "    temp_claim.append(last_word[:-1])\n",
    "    claims_temp.append(temp_claim)\n",
    "    \n",
    "claimstest = claims_temp"
   ]
  },
  {
   "cell_type": "markdown",
   "metadata": {},
   "source": [
    "### Function for deriving training sentences"
   ]
  },
  {
   "cell_type": "code",
   "execution_count": 5,
   "metadata": {},
   "outputs": [],
   "source": [
    "def data_maker_train(claims, evids, labels):\n",
    "    \n",
    "    #Removing stop words\n",
    "    stop_words = set(stopwords.words('english'))\n",
    "    \n",
    "    stop_claims = []\n",
    "    stop_evids = []\n",
    "    for idx, sentence in enumerate(claims):\n",
    "        filtered_sentence = [w for w in claims[idx] if not w in stop_words]\n",
    "        filtered_evidence = [w for w in evids[idx] if not w in stop_words]\n",
    "        stop_claims.append(filtered_sentence)\n",
    "        stop_evids.append(filtered_evidence)\n",
    "        \n",
    "    #Padding the sentences \n",
    "    \n",
    "    #deriving the maximum value\n",
    "    maxSent = max(len(x) for x in stop_claims)\n",
    "    maxEvid = max(len(x) for x in stop_evids)\n",
    "    \n",
    "    after_pad_sentence = []\n",
    "    after_pad_evidence = []\n",
    "    \n",
    "    for sentence in stop_claims:\n",
    "        pad_length = maxSent - len(sentence)\n",
    "        pad_list = ['XXXX']*pad_length\n",
    "        padded_sentence = sentence + pad_list\n",
    "\n",
    "        after_pad_sentence.append(padded_sentence)\n",
    "    \n",
    "    for sentence in stop_evids:\n",
    "        pad_length = maxEvid - len(sentence)\n",
    "        pad_list = ['XXXX']*pad_length\n",
    "        padded_sentence = sentence + pad_list\n",
    "\n",
    "        after_pad_evidence.append(padded_sentence)\n",
    "    \n",
    "    return(after_pad_sentence, after_pad_evidence, labels, maxSent, maxEvid)"
   ]
  },
  {
   "cell_type": "markdown",
   "metadata": {},
   "source": [
    "#### Applying function to training data"
   ]
  },
  {
   "cell_type": "code",
   "execution_count": 6,
   "metadata": {},
   "outputs": [],
   "source": [
    "train_clm, train_evi, train_lab, maxSent, maxEvid = data_maker_train(claims6, evid6, label6)"
   ]
  },
  {
   "cell_type": "markdown",
   "metadata": {},
   "source": [
    "### Function for deriving test data"
   ]
  },
  {
   "cell_type": "code",
   "execution_count": 7,
   "metadata": {},
   "outputs": [],
   "source": [
    "def data_maker_test(claims, evids, labels, maxSent, maxEvid):\n",
    "    \n",
    "    #Removing stop words\n",
    "    stop_words = set(stopwords.words('english')) \n",
    "    \n",
    "    stop_claims = []\n",
    "    stop_evids = []\n",
    "    for idx, sentence in enumerate(claims):\n",
    "        filtered_sentence = [w for w in claims[idx] if not w in stop_words]\n",
    "        filtered_evidence = [w for w in evids[idx] if not w in stop_words]\n",
    "        stop_claims.append(filtered_sentence)\n",
    "        stop_evids.append(filtered_evidence)\n",
    "    \n",
    "    #Truncating the sentences\n",
    "    trunc_sent = []\n",
    "    trunc_evid = []\n",
    "    for sentence in stop_claims:\n",
    "        trunc = sentence[:maxSent]\n",
    "        trunc_sent.append(trunc)\n",
    "        \n",
    "    for sentence in stop_evids:\n",
    "        trunc = sentence[:maxEvid]\n",
    "        trunc_evid.append(trunc)\n",
    "    \n",
    "    #Padding\n",
    "    after_pad_sentence = []\n",
    "    for sentence in trunc_sent:\n",
    "        pad_length = maxSent - len(sentence)\n",
    "        pad_list = ['XXXX']*pad_length\n",
    "        padded_sentence = sentence + pad_list\n",
    "\n",
    "        after_pad_sentence.append(padded_sentence)\n",
    "    \n",
    "    after_pad_evidence = []\n",
    "    for sentence in trunc_evid:\n",
    "        pad_length = maxEvid - len(sentence)\n",
    "        pad_list = ['XXXX']*pad_length\n",
    "        padded_sentence = sentence + pad_list\n",
    "\n",
    "        after_pad_evidence.append(padded_sentence)\n",
    "\n",
    "    return(after_pad_sentence, after_pad_evidence, labels)"
   ]
  },
  {
   "cell_type": "code",
   "execution_count": 8,
   "metadata": {},
   "outputs": [],
   "source": [
    "test_clm, test_evi,test_lab  = data_maker_test(claimstest, evidtest, labeltest, maxSent, maxEvid)"
   ]
  },
  {
   "cell_type": "markdown",
   "metadata": {},
   "source": [
    "### Balancing the data set to prevent bias in neural network"
   ]
  },
  {
   "cell_type": "code",
   "execution_count": 9,
   "metadata": {},
   "outputs": [],
   "source": [
    "index_0 = []\n",
    "index_1 = []\n",
    "\n",
    "#Creating random sample of indexes from balanced class\n",
    "for idx, lab in enumerate(train_lab):\n",
    "    if lab == 0:\n",
    "        index_0.append(idx)\n",
    "        \n",
    "    if lab == 1:\n",
    "        index_1.append(idx)\n",
    "        \n",
    "balance_1 = random.sample(index_1, len(index_0))\n",
    "\n",
    "balance_idx = balance_1 + index_0\n",
    "\n",
    "#Creating subset of everything\n",
    "bal_clm = []\n",
    "bal_evi = []\n",
    "bal_lab = []\n",
    "\n",
    "for idx in balance_idx:\n",
    "    bal_clm.append(train_clm[idx])\n",
    "    bal_evi.append(train_evi[idx])\n",
    "    bal_lab.append(train_lab[idx])"
   ]
  },
  {
   "cell_type": "markdown",
   "metadata": {},
   "source": [
    "## Shuffling the data"
   ]
  },
  {
   "cell_type": "code",
   "execution_count": 10,
   "metadata": {},
   "outputs": [],
   "source": [
    "indices = np.arange(len(bal_clm))\n",
    "np.random.shuffle(indices)"
   ]
  },
  {
   "cell_type": "code",
   "execution_count": 11,
   "metadata": {},
   "outputs": [],
   "source": [
    "shuf_clm = []\n",
    "shuf_evi = []\n",
    "shuf_lab = []\n",
    "\n",
    "for idx in indices:\n",
    "    shuf_clm.append(bal_clm[idx])\n",
    "    shuf_evi.append(bal_evi[idx])\n",
    "    shuf_lab.append(bal_lab[idx])"
   ]
  },
  {
   "cell_type": "markdown",
   "metadata": {},
   "source": [
    "## Function to make glove arrays"
   ]
  },
  {
   "cell_type": "code",
   "execution_count": 12,
   "metadata": {},
   "outputs": [],
   "source": [
    "def array_maker(sent_list):\n",
    "    \n",
    "    all_arrays = []\n",
    "    for sent in sent_list:\n",
    "        an_array = []   #array for each sentence\n",
    "        for word in sent:\n",
    "            try:\n",
    "                row = modelw[word]\n",
    "            except:\n",
    "                row = np.zeros(50)\n",
    "            an_array.append(row)\n",
    "        array = np.array(an_array)\n",
    "        all_arrays.append(an_array)  #List of all arrays\n",
    "    \n",
    "    output = np.array(all_arrays)    #Make that into an array\n",
    "    \n",
    "    return(output)"
   ]
  },
  {
   "cell_type": "code",
   "execution_count": 13,
   "metadata": {},
   "outputs": [],
   "source": [
    "clm_train = array_maker(shuf_clm)\n",
    "evi_train = array_maker(shuf_evi)\n",
    "lab_train = np.expand_dims(np.array(shuf_lab), axis=1)\n",
    "\n",
    "clm_test = array_maker(test_clm)\n",
    "evi_test = array_maker(test_evi)\n",
    "lab_test = np.expand_dims(np.array(test_lab), axis=1)"
   ]
  },
  {
   "cell_type": "markdown",
   "metadata": {},
   "source": [
    "### Defining shapes for inputs and outputs"
   ]
  },
  {
   "cell_type": "code",
   "execution_count": 14,
   "metadata": {},
   "outputs": [],
   "source": [
    "sent_shape = (clm_train.shape[1], clm_train.shape[2])\n",
    "evid_shape = (evi_train.shape[1], evi_train.shape[2])"
   ]
  },
  {
   "cell_type": "markdown",
   "metadata": {},
   "source": [
    "### Defining and Fitting Model"
   ]
  },
  {
   "cell_type": "code",
   "execution_count": 15,
   "metadata": {},
   "outputs": [
    {
     "name": "stdout",
     "output_type": "stream",
     "text": [
      "WARNING:tensorflow:From /anaconda3/lib/python3.6/site-packages/tensorflow/python/framework/op_def_library.py:263: colocate_with (from tensorflow.python.framework.ops) is deprecated and will be removed in a future version.\n",
      "Instructions for updating:\n",
      "Colocations handled automatically by placer.\n"
     ]
    }
   ],
   "source": [
    "# Neural network\n",
    "\n",
    "# Sentence layer\n",
    "sent_input = Input(shape=sent_shape, dtype='float32')\n",
    "sent_lstm = LSTM(32) (sent_input)\n",
    "\n",
    "# Evidence layer\n",
    "evid_input = Input(shape=evid_shape, dtype='float32')\n",
    "evid_lstm = LSTM(32) (evid_input)\n",
    "\n",
    "# Multi\n",
    "mult = Multiply() ([sent_lstm, evid_lstm])\n",
    "\n",
    "# Concat layer\n",
    "combined = concatenate([sent_lstm, evid_lstm, mult])\n",
    "\n",
    "# Dense layer\n",
    "dense_1 = Dense(100, activation='relu') (combined)\n",
    "\n",
    "# Output layer\n",
    "model = Model(inputs=[sent_input, evid_input], outputs=output)\n",
    "model.compile(loss='binary_crossentropy', optimizer='adam', metrics=['accuracy', ])"
   ]
  },
  {
   "cell_type": "code",
   "execution_count": 16,
   "metadata": {
    "scrolled": true
   },
   "outputs": [
    {
     "name": "stdout",
     "output_type": "stream",
     "text": [
      "__________________________________________________________________________________________________\n",
      "Layer (type)                    Output Shape         Param #     Connected to                     \n",
      "==================================================================================================\n",
      "input_1 (InputLayer)            (None, 57, 50)       0                                            \n",
      "__________________________________________________________________________________________________\n",
      "input_2 (InputLayer)            (None, 131, 50)      0                                            \n",
      "__________________________________________________________________________________________________\n",
      "lstm_1 (LSTM)                   (None, 32)           10624       input_1[0][0]                    \n",
      "__________________________________________________________________________________________________\n",
      "lstm_2 (LSTM)                   (None, 32)           10624       input_2[0][0]                    \n",
      "__________________________________________________________________________________________________\n",
      "multiply_1 (Multiply)           (None, 32)           0           lstm_1[0][0]                     \n",
      "                                                                 lstm_2[0][0]                     \n",
      "__________________________________________________________________________________________________\n",
      "concatenate_1 (Concatenate)     (None, 96)           0           lstm_1[0][0]                     \n",
      "                                                                 lstm_2[0][0]                     \n",
      "                                                                 multiply_1[0][0]                 \n",
      "__________________________________________________________________________________________________\n",
      "dense_1 (Dense)                 (None, 100)          9700        concatenate_1[0][0]              \n",
      "__________________________________________________________________________________________________\n",
      "dense_2 (Dense)                 (None, 1)            101         dense_1[0][0]                    \n",
      "==================================================================================================\n",
      "Total params: 31,049\n",
      "Trainable params: 31,049\n",
      "Non-trainable params: 0\n",
      "__________________________________________________________________________________________________\n"
     ]
    }
   ],
   "source": [
    "model.summary()"
   ]
  },
  {
   "cell_type": "code",
   "execution_count": null,
   "metadata": {},
   "outputs": [
    {
     "name": "stdout",
     "output_type": "stream",
     "text": [
      "Train on 88331 samples, validate on 22083 samples\n",
      "Epoch 1/25\n",
      "88331/88331 [==============================] - 508s 6ms/step - loss: 0.6933 - acc: 0.5001 - val_loss: 0.6931 - val_acc: 0.4985\n",
      "Epoch 2/25\n",
      "88331/88331 [==============================] - 505s 6ms/step - loss: 0.6932 - acc: 0.4982 - val_loss: 0.6931 - val_acc: 0.5016\n",
      "Epoch 3/25\n",
      "88331/88331 [==============================] - 503s 6ms/step - loss: 0.6932 - acc: 0.5005 - val_loss: 0.6931 - val_acc: 0.4986\n",
      "Epoch 4/25\n",
      "88331/88331 [==============================] - 504s 6ms/step - loss: 0.6932 - acc: 0.4971 - val_loss: 0.6931 - val_acc: 0.5016\n",
      "Epoch 5/25\n",
      "88331/88331 [==============================] - 505s 6ms/step - loss: 0.6932 - acc: 0.4993 - val_loss: 0.6931 - val_acc: 0.4986\n",
      "Epoch 6/25\n",
      "88331/88331 [==============================] - 504s 6ms/step - loss: 0.6931 - acc: 0.4981 - val_loss: 0.6931 - val_acc: 0.5016\n",
      "Epoch 7/25\n",
      "88331/88331 [==============================] - 499s 6ms/step - loss: 0.4746 - acc: 0.7626 - val_loss: 0.4989 - val_acc: 0.7464\n",
      "Epoch 24/25\n",
      "88331/88331 [==============================] - 500s 6ms/step - loss: 0.4644 - acc: 0.7693 - val_loss: 0.4929 - val_acc: 0.7498\n",
      "Epoch 25/25\n",
      "88331/88331 [==============================] - 499s 6ms/step - loss: 0.4552 - acc: 0.7768 - val_loss: 0.4885 - val_acc: 0.7540\n"
     ]
    }
   ],
   "source": [
    "n_epochs = 25\n",
    "batch_size = 32\n",
    "\n",
    "#checkpoint = ModelCheckpoint(model_filename, verbose=1, save_best_only=True)\n",
    "#early_stopping = EarlyStopping(verbose=1)\n",
    "\n",
    "fit_model = model.fit([clm_train, evi_train], lab_train, \n",
    "                    batch_size=batch_size, validation_split=0.2,\n",
    "                    epochs=n_epochs, verbose=True)"
   ]
  },
  {
   "cell_type": "markdown",
   "metadata": {},
   "source": [
    "### Predicting and calculating metrics"
   ]
  },
  {
   "cell_type": "code",
   "execution_count": null,
   "metadata": {},
   "outputs": [],
   "source": [
    "pred = model.predict([clm_test, evi_test], batch_size=batch_size)"
   ]
  },
  {
   "cell_type": "code",
   "execution_count": 37,
   "metadata": {},
   "outputs": [],
   "source": [
    "y_pred = pred > 0.5"
   ]
  },
  {
   "cell_type": "code",
   "execution_count": 35,
   "metadata": {},
   "outputs": [
    {
     "data": {
      "text/plain": [
       "<matplotlib.legend.Legend at 0x7f8f66174278>"
      ]
     },
     "execution_count": 35,
     "metadata": {},
     "output_type": "execute_result"
    },
    {
     "data": {
      "image/png": "[encoded data removed]",
      "text/plain": [
       "<Figure size 432x288 with 1 Axes>"
      ]
     },
     "metadata": {},
     "output_type": "display_data"
    }
   ],
   "source": [
    "epochs = list(range(0,25))\n",
    "\n",
    "plt.plot(epochs, fit_model.history['loss'], label='Training')\n",
    "plt.plot(epochs, fit_model.history['val_loss'], label='Validation')\n",
    "plt.xlabel('Epochs')\n",
    "plt.ylabel('Losses')\n",
    "plt.legend()"
   ]
  },
  {
   "cell_type": "code",
   "execution_count": 17,
   "metadata": {
    "collapsed": true
   },
   "outputs": [
    {
     "ename": "NameError",
     "evalue": "name 'clm_array_tst' is not defined",
     "output_type": "error",
     "traceback": [
      "\u001b[0;31m---------------------------------------------------------------------------\u001b[0m",
      "\u001b[0;31mNameError\u001b[0m                                 Traceback (most recent call last)",
      "\u001b[0;32m<ipython-input-17-b4909b34df08>\u001b[0m in \u001b[0;36m<module>\u001b[0;34m\u001b[0m\n\u001b[1;32m      1\u001b[0m \u001b[0;31m###Constructing test data\u001b[0m\u001b[0;34m\u001b[0m\u001b[0;34m\u001b[0m\u001b[0;34m\u001b[0m\u001b[0m\n\u001b[0;32m----> 2\u001b[0;31m \u001b[0mpred\u001b[0m \u001b[0;34m=\u001b[0m \u001b[0mmodel\u001b[0m\u001b[0;34m.\u001b[0m\u001b[0mpredict\u001b[0m\u001b[0;34m(\u001b[0m\u001b[0;34m[\u001b[0m\u001b[0mclm_array_tst\u001b[0m\u001b[0;34m,\u001b[0m \u001b[0mevi_array_tst\u001b[0m\u001b[0;34m]\u001b[0m\u001b[0;34m,\u001b[0m \u001b[0mbatch_size\u001b[0m\u001b[0;34m=\u001b[0m\u001b[0mbatch_size\u001b[0m\u001b[0;34m)\u001b[0m\u001b[0;34m\u001b[0m\u001b[0;34m\u001b[0m\u001b[0m\n\u001b[0m\u001b[1;32m      3\u001b[0m \u001b[0my_pred\u001b[0m \u001b[0;34m=\u001b[0m \u001b[0mpred\u001b[0m \u001b[0;34m>\u001b[0m \u001b[0;36m0.5\u001b[0m\u001b[0;34m\u001b[0m\u001b[0;34m\u001b[0m\u001b[0m\n\u001b[1;32m      4\u001b[0m \u001b[0mpickle\u001b[0m\u001b[0;34m.\u001b[0m\u001b[0mdump\u001b[0m\u001b[0;34m(\u001b[0m\u001b[0my_pred\u001b[0m\u001b[0;34m,\u001b[0m \u001b[0mopen\u001b[0m\u001b[0;34m(\u001b[0m\u001b[0;34m\"pkl_files/final_predictions.p\"\u001b[0m\u001b[0;34m,\u001b[0m \u001b[0;34m\"wb\"\u001b[0m\u001b[0;34m)\u001b[0m\u001b[0;34m)\u001b[0m\u001b[0;34m\u001b[0m\u001b[0;34m\u001b[0m\u001b[0m\n",
      "\u001b[0;31mNameError\u001b[0m: name 'clm_array_tst' is not defined"
     ]
    }
   ],
   "source": [
    "###Constructing test data\n",
    "pred = model.predict([clm_array_tst, evi_array_tst], batch_size=batch_size)\n",
    "y_pred = pred > 0.5\n",
    "pickle.dump(y_pred, open(\"pkl_files/final_predictions.p\", \"wb\"))"
   ]
  },
  {
   "cell_type": "code",
   "execution_count": 41,
   "metadata": {},
   "outputs": [],
   "source": [
    "from sklearn.metrics import accuracy_score, f1_score, roc_curve, precision_score, recall_score"
   ]
  },
  {
   "cell_type": "code",
   "execution_count": 43,
   "metadata": {},
   "outputs": [
    {
     "data": {
      "text/plain": [
       "0.6597357687533251"
      ]
     },
     "execution_count": 43,
     "metadata": {},
     "output_type": "execute_result"
    }
   ],
   "source": [
    "accuracy_score(lab_test, y_pred)"
   ]
  },
  {
   "cell_type": "code",
   "execution_count": 44,
   "metadata": {},
   "outputs": [
    {
     "data": {
      "text/plain": [
       "0.6492124664879356"
      ]
     },
     "execution_count": 44,
     "metadata": {},
     "output_type": "execute_result"
    }
   ],
   "source": [
    "precision_score(lab_test, y_pred)"
   ]
  },
  {
   "cell_type": "code",
   "execution_count": 46,
   "metadata": {},
   "outputs": [
    {
     "data": {
      "text/plain": [
       "0.6895968674913233"
      ]
     },
     "execution_count": 46,
     "metadata": {},
     "output_type": "execute_result"
    }
   ],
   "source": [
    "recall_score(lab_test, y_pred)"
   ]
  },
  {
   "cell_type": "code",
   "execution_count": 48,
   "metadata": {},
   "outputs": [
    {
     "data": {
      "text/plain": [
       "0.6687955810641696"
      ]
     },
     "execution_count": 48,
     "metadata": {},
     "output_type": "execute_result"
    }
   ],
   "source": [
    "f1_score(lab_test, y_pred)"
   ]
  }
 ],
 "metadata": {
  "kernelspec": {
   "display_name": "Python 3",
   "language": "python",
   "name": "python3"
  },
  "language_info": {
   "codemirror_mode": {
    "name": "ipython",
    "version": 3
   },
   "file_extension": ".py",
   "mimetype": "text/x-python",
   "name": "python",
   "nbconvert_exporter": "python",
   "pygments_lexer": "ipython3",
   "version": "3.6.8"
  }
 },
 "nbformat": 4,
 "nbformat_minor": 2
}
